{
 "cells": [
  {
   "cell_type": "markdown",
   "metadata": {
    "slideshow": {
     "slide_type": "slide"
    }
   },
   "source": [
    "<div style=\"font-size:24pt; font-weight:bold;\">Partie 1 : types de base</div>"
   ]
  },
  {
   "cell_type": "markdown",
   "metadata": {},
   "source": [
    "En mode interpréteur simple, Python peut être vu comme une \"super calculatrice\".\n",
    "\n",
    "On va voir ainsi comment faire quelques calculs simples, ce qui nous permettra d'introduire les types numériques de base."
   ]
  },
  {
   "cell_type": "markdown",
   "metadata": {},
   "source": [
    "# Les types de base"
   ]
  },
  {
   "cell_type": "markdown",
   "metadata": {},
   "source": [
    "## Booléens"
   ]
  },
  {
   "cell_type": "code",
   "execution_count": 1,
   "metadata": {
    "ExecuteTime": {
     "end_time": "2019-04-11T15:19:17.357063Z",
     "start_time": "2019-04-11T15:19:17.346413Z"
    }
   },
   "outputs": [
    {
     "data": {
      "text/plain": [
       "True"
      ]
     },
     "execution_count": 1,
     "metadata": {},
     "output_type": "execute_result"
    }
   ],
   "source": [
    "True"
   ]
  },
  {
   "cell_type": "code",
   "execution_count": 2,
   "metadata": {
    "ExecuteTime": {
     "end_time": "2019-04-11T15:19:17.364635Z",
     "start_time": "2019-04-11T15:19:17.359514Z"
    }
   },
   "outputs": [
    {
     "data": {
      "text/plain": [
       "bool"
      ]
     },
     "execution_count": 2,
     "metadata": {},
     "output_type": "execute_result"
    }
   ],
   "source": [
    "type(True)"
   ]
  },
  {
   "cell_type": "code",
   "execution_count": 3,
   "metadata": {
    "ExecuteTime": {
     "end_time": "2019-04-11T15:19:17.371617Z",
     "start_time": "2019-04-11T15:19:17.367117Z"
    }
   },
   "outputs": [
    {
     "data": {
      "text/plain": [
       "False"
      ]
     },
     "execution_count": 3,
     "metadata": {},
     "output_type": "execute_result"
    }
   ],
   "source": [
    "not True"
   ]
  },
  {
   "cell_type": "code",
   "execution_count": 4,
   "metadata": {
    "ExecuteTime": {
     "end_time": "2019-04-11T15:19:17.378579Z",
     "start_time": "2019-04-11T15:19:17.374183Z"
    }
   },
   "outputs": [
    {
     "data": {
      "text/plain": [
       "True"
      ]
     },
     "execution_count": 4,
     "metadata": {},
     "output_type": "execute_result"
    }
   ],
   "source": [
    "not(False)"
   ]
  },
  {
   "cell_type": "code",
   "execution_count": 5,
   "metadata": {
    "ExecuteTime": {
     "end_time": "2019-04-11T15:19:17.384318Z",
     "start_time": "2019-04-11T15:19:17.380344Z"
    }
   },
   "outputs": [
    {
     "data": {
      "text/plain": [
       "False"
      ]
     },
     "execution_count": 5,
     "metadata": {},
     "output_type": "execute_result"
    }
   ],
   "source": [
    "True == False"
   ]
  },
  {
   "cell_type": "code",
   "execution_count": 6,
   "metadata": {
    "ExecuteTime": {
     "end_time": "2019-04-11T15:19:17.390664Z",
     "start_time": "2019-04-11T15:19:17.386345Z"
    }
   },
   "outputs": [
    {
     "data": {
      "text/plain": [
       "True"
      ]
     },
     "execution_count": 6,
     "metadata": {},
     "output_type": "execute_result"
    }
   ],
   "source": [
    "True != False"
   ]
  },
  {
   "cell_type": "code",
   "execution_count": 7,
   "metadata": {
    "ExecuteTime": {
     "end_time": "2019-04-11T15:19:17.396272Z",
     "start_time": "2019-04-11T15:19:17.392369Z"
    }
   },
   "outputs": [
    {
     "data": {
      "text/plain": [
       "True"
      ]
     },
     "execution_count": 7,
     "metadata": {},
     "output_type": "execute_result"
    }
   ],
   "source": [
    "True & True"
   ]
  },
  {
   "cell_type": "code",
   "execution_count": 8,
   "metadata": {
    "ExecuteTime": {
     "end_time": "2019-04-11T15:19:17.403343Z",
     "start_time": "2019-04-11T15:19:17.399116Z"
    }
   },
   "outputs": [
    {
     "data": {
      "text/plain": [
       "True"
      ]
     },
     "execution_count": 8,
     "metadata": {},
     "output_type": "execute_result"
    }
   ],
   "source": [
    "True and True"
   ]
  },
  {
   "cell_type": "code",
   "execution_count": 9,
   "metadata": {
    "ExecuteTime": {
     "end_time": "2019-04-11T15:19:17.409470Z",
     "start_time": "2019-04-11T15:19:17.405440Z"
    }
   },
   "outputs": [
    {
     "data": {
      "text/plain": [
       "True"
      ]
     },
     "execution_count": 9,
     "metadata": {},
     "output_type": "execute_result"
    }
   ],
   "source": [
    "True | False"
   ]
  },
  {
   "cell_type": "code",
   "execution_count": 10,
   "metadata": {
    "ExecuteTime": {
     "end_time": "2019-04-11T15:19:17.415912Z",
     "start_time": "2019-04-11T15:19:17.411707Z"
    }
   },
   "outputs": [
    {
     "data": {
      "text/plain": [
       "True"
      ]
     },
     "execution_count": 10,
     "metadata": {},
     "output_type": "execute_result"
    }
   ],
   "source": [
    "True or False"
   ]
  },
  {
   "cell_type": "markdown",
   "metadata": {},
   "source": [
    "> **Exercice : vérifier les lois de De Morgan**\n",
    "\n",
    "> > $\\overline{A \\wedge B} \\leftrightarrow \\overline{A} \\vee \\overline{B}$\n",
    "\n",
    "> > $\\overline{A \\vee B} \\leftrightarrow \\overline{A} \\wedge \\overline{B}$"
   ]
  },
  {
   "cell_type": "markdown",
   "metadata": {},
   "source": [
    "## Les entiers"
   ]
  },
  {
   "cell_type": "code",
   "execution_count": 13,
   "metadata": {
    "ExecuteTime": {
     "end_time": "2019-04-11T15:19:17.457935Z",
     "start_time": "2019-04-11T15:19:17.453984Z"
    }
   },
   "outputs": [
    {
     "data": {
      "text/plain": [
       "3"
      ]
     },
     "execution_count": 13,
     "metadata": {},
     "output_type": "execute_result"
    }
   ],
   "source": [
    "1+2"
   ]
  },
  {
   "cell_type": "markdown",
   "metadata": {
    "ExecuteTime": {
     "end_time": "2019-04-04T15:53:26.873326Z",
     "start_time": "2019-04-04T15:53:26.869925Z"
    }
   },
   "source": [
    "<div style=\"font-size:14pt; font-weight:bold\">Petite digression... sur la représentation des entiers</div>"
   ]
  },
  {
   "cell_type": "markdown",
   "metadata": {
    "ExecuteTime": {
     "end_time": "2019-04-04T15:53:26.873326Z",
     "start_time": "2019-04-04T15:53:26.869925Z"
    }
   },
   "source": [
    "**Comment représenter un nombre entier $n$ ?**"
   ]
  },
  {
   "cell_type": "markdown",
   "metadata": {
    "ExecuteTime": {
     "end_time": "2019-04-04T15:53:26.873326Z",
     "start_time": "2019-04-04T15:53:26.869925Z"
    }
   },
   "source": [
    "> Représentation binaire : $n=\\sum_{i=0}^{N} a_i.2^i$\n",
    ">\n",
    "> N est le nombre de bits utilisés pour la représentation.\n",
    ">\n",
    "> Par exemple, pour N=8 (1 octet) : on peut aller de 00000000 à 11111111 en binaire donc de 0 à 255\n",
    ">\n",
    "> On a alors une représentation d'un sous-ensemble des entiers naturels $\\mathbb{N}$ dans lequel on peut faire les opérations arithmétiques courantes...\n",
    "> "
   ]
  },
  {
   "cell_type": "markdown",
   "metadata": {
    "ExecuteTime": {
     "end_time": "2019-04-04T15:53:26.873326Z",
     "start_time": "2019-04-04T15:53:26.869925Z"
    }
   },
   "source": [
    "**Comment alors représenter les entiers relatifs $\\mathbb{Z}$ ?**\n",
    " \n",
    "*Une solution naïve : le complément à 1*"
   ]
  },
  {
   "cell_type": "markdown",
   "metadata": {
    "ExecuteTime": {
     "end_time": "2019-04-04T15:53:26.873326Z",
     "start_time": "2019-04-04T15:53:26.869925Z"
    }
   },
   "source": [
    "> Tous les nombres de 00000000 à 011111111 sont considérés comme positifs.\n",
    "> Tous les nombres de 10000000 à 111111111 sont eux, négatifs.\n",
    ">\n",
    "> Par ailleurs, pour assurer que l'arithmétique fonctionne correctement il faut considérer que :\n",
    ">\n",
    "> si 00000001 code 1 alors 11111110 (complément à 1 = inversion bit à bit) code -1\n",
    "> \n",
    "> - Dans ce cas $1+(-1)$ = 1111111\n",
    ">\n",
    "> - Mais aussi $1 - (+1)$ = 0000000\n",
    "> \n",
    "> On a donc 2 représentations du 0 :("
   ]
  },
  {
   "cell_type": "markdown",
   "metadata": {},
   "source": [
    "*Le complément à 2*"
   ]
  },
  {
   "cell_type": "markdown",
   "metadata": {},
   "source": [
    "> Pour éviter le problème du zero on calcule le complément à 2 comme étant le complément à 1 plus 1\n",
    ">\n",
    "> La représentation du 1 reste donc 00000001\n",
    ">\n",
    "> La représentation de -1 se transforme en 11111110 + 1 = 11111111\n",
    ">\n",
    "> - Ainsi 1+(-1) = 1 00000000 soit 0000000 si on oublie la retenue\n",
    ">\n",
    "> - 1 - (+1) = 000000000\n",
    ">\n",
    "> Sur 8 bits on code donc les nombres positifs de 00000000 à 01111111 (0 à 127)\n",
    "> \n",
    "> Tandis que les nombres négatifs sont codés de 10000000 à 11111111 (-128 à -1)\n",
    ">\n",
    "> Le bit le plus à gauche d'un nombre négatif est toujours à 1 (bit de signe)"
   ]
  },
  {
   "cell_type": "markdown",
   "metadata": {},
   "source": [
    "<HR size=\"10\"/>"
   ]
  },
  {
   "cell_type": "markdown",
   "metadata": {},
   "source": [
    "> **Exercice : les entiers \"courts\" en Python sont signés et codés sur 32 bits**\n",
    "\n",
    "> > *Quel est le sous ensemble de $\\mathbb{Z}$ qui peut être codé par un \"entier\" Python ?*"
   ]
  },
  {
   "cell_type": "markdown",
   "metadata": {},
   "source": [
    "Au delà de ces valeurs l'entier est codé différemment (beaucoup plus de place en mémoire). C'est un entier \"long\" qui peut prendre potentiellement n'importe quelle valeur de $\\mathbb{Z}$... tant qu'il y a de la mémoire !"
   ]
  },
  {
   "cell_type": "markdown",
   "metadata": {},
   "source": [
    "<HR size=\"10\"/>"
   ]
  },
  {
   "cell_type": "markdown",
   "metadata": {},
   "source": [
    "> **Exercice : calculer $2^{1000}$**"
   ]
  },
  {
   "cell_type": "markdown",
   "metadata": {},
   "source": [
    "<HR size=\"10\"/>"
   ]
  },
  {
   "cell_type": "markdown",
   "metadata": {},
   "source": [
    "##### Quelques opérations sur les entiers"
   ]
  },
  {
   "cell_type": "code",
   "execution_count": 15,
   "metadata": {
    "ExecuteTime": {
     "end_time": "2019-04-11T15:19:17.473394Z",
     "start_time": "2019-04-11T15:19:17.469286Z"
    },
    "slideshow": {
     "slide_type": "-"
    }
   },
   "outputs": [
    {
     "data": {
      "text/plain": [
       "1"
      ]
     },
     "execution_count": 15,
     "metadata": {},
     "output_type": "execute_result"
    }
   ],
   "source": [
    "4//3 # Division entière"
   ]
  },
  {
   "cell_type": "code",
   "execution_count": 16,
   "metadata": {
    "ExecuteTime": {
     "end_time": "2019-04-11T15:19:17.480177Z",
     "start_time": "2019-04-11T15:19:17.475821Z"
    }
   },
   "outputs": [
    {
     "data": {
      "text/plain": [
       "1"
      ]
     },
     "execution_count": 16,
     "metadata": {},
     "output_type": "execute_result"
    }
   ],
   "source": [
    "4%3 # Reste de la division entière"
   ]
  },
  {
   "cell_type": "markdown",
   "metadata": {},
   "source": [
    "## Nombres flottants"
   ]
  },
  {
   "cell_type": "code",
   "execution_count": 17,
   "metadata": {
    "ExecuteTime": {
     "end_time": "2019-04-11T15:19:17.533075Z",
     "start_time": "2019-04-11T15:19:17.529219Z"
    }
   },
   "outputs": [
    {
     "data": {
      "text/plain": [
       "3.0"
      ]
     },
     "execution_count": 17,
     "metadata": {},
     "output_type": "execute_result"
    }
   ],
   "source": [
    "1.0+2.0"
   ]
  },
  {
   "cell_type": "markdown",
   "metadata": {
    "ExecuteTime": {
     "end_time": "2019-04-04T15:53:26.873326Z",
     "start_time": "2019-04-04T15:53:26.869925Z"
    }
   },
   "source": [
    "<div style=\"font-size:14pt; font-weight:bold\">Autre petite digression... sur la représentation des réels</div>"
   ]
  },
  {
   "cell_type": "markdown",
   "metadata": {},
   "source": [
    "> Les nombres flottants forme un sous ensemble des nombres réels $\\mathbb{R}$ qui peuvent être représentés par un ordinateur.\n",
    "\n",
    "> Ce sont tous les nombres qui peuvent s'exprimer sous la forme : $s*m*2^e$.\n",
    "\n",
    "> Avec :\n",
    "> - $s=1$ ou $-1$ (bit de signe)\n",
    "> - $m$ la mantisse\n",
    "> - $E$ l'exposant (qui peut être positif ou négatif - mot sur n bits décalé d'une valeur constante)\n",
    "\n",
    "> Généralement en Python \n",
    "> - $s$ est codé sur 1 bit (0, positif; 1, négatif)\n",
    "> - $m$ sur 53 bits dont 1 implicite (on commence toujours par un 1)\n",
    "> - $E=exposant-décalage$ sur 11 bits (-1022 à +1023)\n",
    "\n",
    "soit 64 bits au total = 4 octets (mais, selon la machine cela peut aller jusqu'à 128 ou 256 bits...)"
   ]
  },
  {
   "cell_type": "markdown",
   "metadata": {
    "solution2": "hidden",
    "solution2_first": true
   },
   "source": [
    "> **Exercice : en fixant la mantisse et le signe a 1 donner l'ordre de grandeur des nombres pouvant être codé en flottant64 (du plus petit au plus grand)**"
   ]
  },
  {
   "cell_type": "markdown",
   "metadata": {},
   "source": [
    "Certains nombres réels (par exemple 1/10) ne peuvent pas être représentés en utilisant des puissances de 2 et ne peuvent donc pas être codés en flottant à moins d'une approximation. Par défaut l'affichage arrondi les nombres. "
   ]
  },
  {
   "cell_type": "code",
   "execution_count": 19,
   "metadata": {
    "ExecuteTime": {
     "end_time": "2019-04-11T15:19:17.546567Z",
     "start_time": "2019-04-11T15:19:17.542417Z"
    }
   },
   "outputs": [
    {
     "data": {
      "text/plain": [
       "0.1"
      ]
     },
     "execution_count": 19,
     "metadata": {},
     "output_type": "execute_result"
    }
   ],
   "source": [
    "0.1 # en fait 0.1000000000000000055511151231257827021181583404541015625"
   ]
  },
  {
   "cell_type": "code",
   "execution_count": 20,
   "metadata": {
    "ExecuteTime": {
     "end_time": "2019-04-11T15:19:17.552792Z",
     "start_time": "2019-04-11T15:19:17.548728Z"
    }
   },
   "outputs": [
    {
     "data": {
      "text/plain": [
       "5.551115123125783e-17"
      ]
     },
     "execution_count": 20,
     "metadata": {},
     "output_type": "execute_result"
    }
   ],
   "source": [
    "0.1+0.1+0.1-0.3"
   ]
  },
  {
   "cell_type": "markdown",
   "metadata": {},
   "source": [
    "## Nombres complexes\n",
    "\n",
    "Python intègre nativement une représentation des nombres complexes."
   ]
  },
  {
   "cell_type": "code",
   "execution_count": 21,
   "metadata": {
    "ExecuteTime": {
     "end_time": "2019-04-11T15:19:17.603901Z",
     "start_time": "2019-04-11T15:19:17.599577Z"
    },
    "slideshow": {
     "slide_type": "-"
    }
   },
   "outputs": [
    {
     "data": {
      "text/plain": [
       "complex"
      ]
     },
     "execution_count": 21,
     "metadata": {},
     "output_type": "execute_result"
    }
   ],
   "source": [
    "1.0+1.0j # C'est le j des physiciens qui est utilisé\n",
    "(1.0j)**2\n",
    "type((1.0j)**2)"
   ]
  },
  {
   "cell_type": "code",
   "execution_count": 22,
   "metadata": {
    "ExecuteTime": {
     "end_time": "2019-04-11T15:19:17.610678Z",
     "start_time": "2019-04-11T15:19:17.606377Z"
    }
   },
   "outputs": [
    {
     "data": {
      "text/plain": [
       "1.0"
      ]
     },
     "execution_count": 22,
     "metadata": {},
     "output_type": "execute_result"
    }
   ],
   "source": [
    "(1+1j).real"
   ]
  },
  {
   "cell_type": "code",
   "execution_count": 23,
   "metadata": {
    "ExecuteTime": {
     "end_time": "2019-04-11T15:19:17.617127Z",
     "start_time": "2019-04-11T15:19:17.613081Z"
    }
   },
   "outputs": [
    {
     "data": {
      "text/plain": [
       "1.0"
      ]
     },
     "execution_count": 23,
     "metadata": {},
     "output_type": "execute_result"
    }
   ],
   "source": [
    "(1+1j).imag"
   ]
  },
  {
   "cell_type": "code",
   "execution_count": 24,
   "metadata": {
    "ExecuteTime": {
     "end_time": "2019-04-11T15:19:17.623569Z",
     "start_time": "2019-04-11T15:19:17.619448Z"
    }
   },
   "outputs": [
    {
     "data": {
      "text/plain": [
       "(1-1j)"
      ]
     },
     "execution_count": 24,
     "metadata": {},
     "output_type": "execute_result"
    }
   ],
   "source": [
    "(1+1j).conjugate()"
   ]
  },
  {
   "cell_type": "markdown",
   "metadata": {},
   "source": [
    "> **Exercice : calculer le carré du module du nombre complexe $1+i$ comparer votre calcul avec le carré de `abs(1+1j)`**"
   ]
  },
  {
   "cell_type": "markdown",
   "metadata": {},
   "source": [
    "## Type None\n",
    "\n",
    "C'est le type qui correspond à... rien ! (nous verrons l'intérêt plus tard).\n",
    "\n",
    "Il n'existe qu'un élement de ce type"
   ]
  },
  {
   "cell_type": "code",
   "execution_count": 27,
   "metadata": {
    "ExecuteTime": {
     "end_time": "2019-04-11T15:19:17.641565Z",
     "start_time": "2019-04-11T15:19:17.639149Z"
    }
   },
   "outputs": [],
   "source": [
    "None"
   ]
  },
  {
   "cell_type": "markdown",
   "metadata": {
    "collapsed": true,
    "slideshow": {
     "slide_type": "subslide"
    }
   },
   "source": [
    "# Utilisation des variables\n",
    "\n",
    "Pour stocker durablement les résultats de calculs intermédiaires ou de traitements on utilise des variables nommées auxquelles on peut affecter des valeurs literales ou des traitements."
   ]
  },
  {
   "cell_type": "markdown",
   "metadata": {
    "collapsed": true,
    "slideshow": {
     "slide_type": "subslide"
    }
   },
   "source": [
    "## Affectation"
   ]
  },
  {
   "cell_type": "code",
   "execution_count": 28,
   "metadata": {
    "ExecuteTime": {
     "end_time": "2019-04-11T15:19:17.748392Z",
     "start_time": "2019-04-11T15:19:17.744470Z"
    }
   },
   "outputs": [
    {
     "data": {
      "text/plain": [
       "int"
      ]
     },
     "execution_count": 28,
     "metadata": {},
     "output_type": "execute_result"
    }
   ],
   "source": [
    "x=10\n",
    "type(x)"
   ]
  },
  {
   "cell_type": "code",
   "execution_count": 29,
   "metadata": {
    "ExecuteTime": {
     "end_time": "2019-04-11T15:19:17.756132Z",
     "start_time": "2019-04-11T15:19:17.750572Z"
    }
   },
   "outputs": [
    {
     "data": {
      "text/plain": [
       "float"
      ]
     },
     "execution_count": 29,
     "metadata": {},
     "output_type": "execute_result"
    }
   ],
   "source": [
    "x=1.0\n",
    "type(x)"
   ]
  },
  {
   "cell_type": "markdown",
   "metadata": {},
   "source": [
    "La variable est typée mais dynamiquement."
   ]
  },
  {
   "cell_type": "markdown",
   "metadata": {
    "slideshow": {
     "slide_type": "-"
    }
   },
   "source": [
    "## Affectation améliorée"
   ]
  },
  {
   "cell_type": "code",
   "execution_count": 30,
   "metadata": {
    "ExecuteTime": {
     "end_time": "2019-04-11T15:19:17.814158Z",
     "start_time": "2019-04-11T15:19:17.810965Z"
    }
   },
   "outputs": [],
   "source": [
    "a=10;b=20;c=30\n",
    "a+=10; b-=10; c*=10; x/=2"
   ]
  },
  {
   "cell_type": "code",
   "execution_count": 31,
   "metadata": {
    "ExecuteTime": {
     "end_time": "2019-04-11T15:19:17.820899Z",
     "start_time": "2019-04-11T15:19:17.816718Z"
    }
   },
   "outputs": [
    {
     "data": {
      "text/plain": [
       "20"
      ]
     },
     "execution_count": 31,
     "metadata": {},
     "output_type": "execute_result"
    }
   ],
   "source": [
    "a"
   ]
  },
  {
   "cell_type": "code",
   "execution_count": 32,
   "metadata": {
    "ExecuteTime": {
     "end_time": "2019-04-11T15:19:17.827696Z",
     "start_time": "2019-04-11T15:19:17.823256Z"
    }
   },
   "outputs": [
    {
     "data": {
      "text/plain": [
       "10"
      ]
     },
     "execution_count": 32,
     "metadata": {},
     "output_type": "execute_result"
    }
   ],
   "source": [
    "b"
   ]
  },
  {
   "cell_type": "code",
   "execution_count": 33,
   "metadata": {
    "ExecuteTime": {
     "end_time": "2019-04-11T15:19:17.834074Z",
     "start_time": "2019-04-11T15:19:17.830174Z"
    }
   },
   "outputs": [
    {
     "data": {
      "text/plain": [
       "300"
      ]
     },
     "execution_count": 33,
     "metadata": {},
     "output_type": "execute_result"
    }
   ],
   "source": [
    "c"
   ]
  },
  {
   "cell_type": "code",
   "execution_count": 34,
   "metadata": {
    "ExecuteTime": {
     "end_time": "2019-04-11T15:19:17.839856Z",
     "start_time": "2019-04-11T15:19:17.836230Z"
    }
   },
   "outputs": [
    {
     "data": {
      "text/plain": [
       "0.5"
      ]
     },
     "execution_count": 34,
     "metadata": {},
     "output_type": "execute_result"
    }
   ],
   "source": [
    "x"
   ]
  }
 ],
 "metadata": {
  "celltoolbar": "Slideshow",
  "kernelspec": {
   "display_name": "Python 3",
   "language": "python",
   "name": "python3"
  },
  "language_info": {
   "codemirror_mode": {
    "name": "ipython",
    "version": 3
   },
   "file_extension": ".py",
   "mimetype": "text/x-python",
   "name": "python",
   "nbconvert_exporter": "python",
   "pygments_lexer": "ipython3",
   "version": "3.6.8"
  },
  "toc": {
   "base_numbering": 1,
   "nav_menu": {},
   "number_sections": true,
   "sideBar": true,
   "skip_h1_title": false,
   "title_cell": "Table of Contents",
   "title_sidebar": "Contents",
   "toc_cell": false,
   "toc_position": {
    "height": "calc(100% - 180px)",
    "left": "10px",
    "top": "150px",
    "width": "336px"
   },
   "toc_section_display": true,
   "toc_window_display": true
  }
 },
 "nbformat": 4,
 "nbformat_minor": 1
}
