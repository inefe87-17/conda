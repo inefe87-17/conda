{
 "cells": [
  {
   "cell_type": "markdown",
   "metadata": {
    "slideshow": {
     "slide_type": "slide"
    }
   },
   "source": [
    "<div style=\"font-size:24pt; font-weight:bold;\">Partie 4 : langage procédural</div>"
   ]
  },
  {
   "cell_type": "markdown",
   "metadata": {
    "slideshow": {
     "slide_type": "slide"
    }
   },
   "source": [
    "# Python: un langage procédural"
   ]
  },
  {
   "cell_type": "markdown",
   "metadata": {},
   "source": [
    "Lorsque les programmes se complexifient, la longueur du code augmente et les traitements s'enchaînent, en utilisant souvent les mêmes sous-traitements élémentaires (tri, recherche...) à un paramètre près.\n",
    "\n",
    "Le principe de la programmation procédurale est de regrouper ces sous-traitements (appelés aussi sous-routines, procédures, ou fonctions -- à différencier de la notion mathématique) et de les nommer afin de pouvoir les appeler à n'importe quelle étape du programme, y compris dans d'autre procédures, voire, dans le corps même de la procédure (on parle alors de récursivité).\n",
    "\n",
    "Un tel type de programmation possède par ailleurs les avantages suivants :\n",
    "\n",
    "- il est possible de réutiliser le même code à différents emplacements dans le programme (c'est ce qu'on appelle la \"factorisation\" du code). Cela a pour effet à la fois de réduire la taille du code mais aussi de localiser les modifications, ce qui facilite la maintenabilité (compréhension plus rapide, réduction du risque de régression) ;\n",
    "- il est plus facile de suivre l'exécution du programme"
   ]
  },
  {
   "cell_type": "markdown",
   "metadata": {
    "collapsed": true,
    "slideshow": {
     "slide_type": "subslide"
    }
   },
   "source": [
    "## Fonctions\n",
    "\n",
    "L'unité procédurale de base en Python est la \"fonction\" : elle regroupe un ensemble de traitements locaux et renvoie une valeur à l'issue du traitement. Ce n'est pas une fonction au sens mathématique à proprement parler, car elle peut avoir des \"effets de bords\". Les variables définies dans la fonctions ne sont pas visibles en dehors de celle-ci.\n",
    "\n",
    "On déclare les fonctions grâce au mot-clef `def`.\n",
    "\n",
    "    def name(param):\n",
    "        statement\n",
    "        return val"
   ]
  },
  {
   "cell_type": "code",
   "execution_count": 24,
   "metadata": {
    "ExecuteTime": {
     "end_time": "2019-04-09T06:48:39.685345Z",
     "start_time": "2019-04-09T06:48:39.680843Z"
    }
   },
   "outputs": [
    {
     "name": "stdout",
     "output_type": "stream",
     "text": [
      "Hello\n"
     ]
    },
    {
     "data": {
      "text/plain": [
       "True"
      ]
     },
     "execution_count": 24,
     "metadata": {},
     "output_type": "execute_result"
    }
   ],
   "source": [
    "def hello():\n",
    "    print(\"Hello\")\n",
    "    return True\n",
    "result=hello()\n",
    "result"
   ]
  },
  {
   "cell_type": "markdown",
   "metadata": {},
   "source": [
    "Une fonction qui ne renvoie rien... renvoie `None` !"
   ]
  },
  {
   "cell_type": "code",
   "execution_count": 29,
   "metadata": {
    "ExecuteTime": {
     "end_time": "2019-04-09T06:49:30.177620Z",
     "start_time": "2019-04-09T06:49:30.173112Z"
    }
   },
   "outputs": [
    {
     "name": "stdout",
     "output_type": "stream",
     "text": [
      "Salut\n"
     ]
    },
    {
     "data": {
      "text/plain": [
       "NoneType"
      ]
     },
     "execution_count": 29,
     "metadata": {},
     "output_type": "execute_result"
    }
   ],
   "source": [
    "def affiche():\n",
    "    print(\"Salut\")\n",
    "    return None # Cette ligne est facultative\n",
    "    \n",
    "res=affiche()\n",
    "type(res)"
   ]
  },
  {
   "cell_type": "markdown",
   "metadata": {
    "slideshow": {
     "slide_type": "subslide"
    }
   },
   "source": [
    "### Paramètres"
   ]
  },
  {
   "cell_type": "markdown",
   "metadata": {},
   "source": [
    "Afin d'être réutilisables, les fonctions sont paramétrées.\n",
    "\n",
    "Le cas le plus courant est le suivant :"
   ]
  },
  {
   "cell_type": "code",
   "execution_count": 34,
   "metadata": {
    "ExecuteTime": {
     "end_time": "2019-04-09T06:53:45.021478Z",
     "start_time": "2019-04-09T06:53:45.017187Z"
    }
   },
   "outputs": [
    {
     "name": "stdout",
     "output_type": "stream",
     "text": [
      "Nous sommes en  2019\n",
      "Vous êtes dans le cours NSI\n"
     ]
    }
   ],
   "source": [
    "def course(name, year=\"2019\"):\n",
    "    print(\"Nous sommes en \",year)\n",
    "    print(\"Vous êtes dans le cours\",name)\n",
    "\n",
    "course(\"NSI\")"
   ]
  },
  {
   "cell_type": "markdown",
   "metadata": {},
   "source": [
    "> **Exercice : ecrire une fonction `polynome(x,coeff)` qui calcule la valeur en $x$ du polynome dont les coefficients sont passés en paramêtre (ex : [1,2,3] correspond au polynôme $x^2+2x+3$**"
   ]
  },
  {
   "cell_type": "markdown",
   "metadata": {},
   "source": [
    "Il est aussi possible de définir une fonction avec des paramètres variables (mais c'est beaucoup plus difficile à maintenir !)."
   ]
  },
  {
   "cell_type": "code",
   "execution_count": 35,
   "metadata": {
    "ExecuteTime": {
     "end_time": "2019-04-09T06:54:33.578755Z",
     "start_time": "2019-04-09T06:54:33.575206Z"
    }
   },
   "outputs": [
    {
     "name": "stdout",
     "output_type": "stream",
     "text": [
      "Vous etes en  DU\n",
      "Vous suivez le cours de  NSI\n"
     ]
    }
   ],
   "source": [
    "def cours(*args):\n",
    "    print(\"Vous etes en \",args[0])\n",
    "    print(\"Vous suivez le cours de \",args[1])\n",
    "cours(\"DU\",\"NSI\")"
   ]
  },
  {
   "cell_type": "markdown",
   "metadata": {},
   "source": [
    "Enfin, il est possible de définir les paramètres comme des dictionnaires :"
   ]
  },
  {
   "cell_type": "code",
   "execution_count": 37,
   "metadata": {
    "ExecuteTime": {
     "end_time": "2019-04-09T06:56:12.580532Z",
     "start_time": "2019-04-09T06:56:12.575603Z"
    }
   },
   "outputs": [
    {
     "name": "stdout",
     "output_type": "stream",
     "text": [
      "Vous etes en  DU\n",
      "Vous suivez le cours de  NSI\n",
      "Vous etes en  DU\n",
      "Vous suivez le cours de  NSI\n"
     ]
    }
   ],
   "source": [
    "def cours(**args):\n",
    "    print(\"Vous etes en \",args[\"annee\"])\n",
    "    print(\"Vous suivez le cours de \",args[\"nom\"])\n",
    "\n",
    "cours(nom=\"NSI\",annee=\"DU\")\n",
    "cours(annee=\"DU\",nom=\"NSI\")"
   ]
  },
  {
   "cell_type": "markdown",
   "metadata": {
    "slideshow": {
     "slide_type": "subslide"
    }
   },
   "source": [
    "### Fonctions récursives\n",
    "\n",
    "Une fonction récursive est simplement une fonction qui s'appelle elle-même."
   ]
  },
  {
   "cell_type": "code",
   "execution_count": 40,
   "metadata": {
    "ExecuteTime": {
     "end_time": "2019-04-09T07:18:47.179603Z",
     "start_time": "2019-04-09T07:18:47.174855Z"
    }
   },
   "outputs": [
    {
     "data": {
      "text/plain": [
       "6"
      ]
     },
     "execution_count": 40,
     "metadata": {},
     "output_type": "execute_result"
    }
   ],
   "source": [
    "def fact(n):\n",
    "    if (n<=0): return 1\n",
    "    else: return n*fact(n-1)\n",
    "    \n",
    "fact(3)"
   ]
  },
  {
   "cell_type": "markdown",
   "metadata": {},
   "source": [
    "> **Exercice : ecrire la fonction fibo(n) qui calcule le nème terme de la suite de Fibonnaci : $U_0=U_1=1$ ; $U_n=U_{n-1}+U_{n-2}$**"
   ]
  },
  {
   "cell_type": "markdown",
   "metadata": {
    "slideshow": {
     "slide_type": "subslide"
    }
   },
   "source": [
    "### Fonctions lambda\n",
    "\n",
    "On peut associer une fonction non nommée à une variable."
   ]
  },
  {
   "cell_type": "code",
   "execution_count": 38,
   "metadata": {
    "ExecuteTime": {
     "end_time": "2019-04-09T06:57:19.665150Z",
     "start_time": "2019-04-09T06:57:19.659880Z"
    }
   },
   "outputs": [
    {
     "data": {
      "text/plain": [
       "16"
      ]
     },
     "execution_count": 38,
     "metadata": {},
     "output_type": "execute_result"
    }
   ],
   "source": [
    "fonc=lambda x,y:x**2+2*x*y+y**2\n",
    "fonc(2,2)"
   ]
  },
  {
   "cell_type": "markdown",
   "metadata": {},
   "source": [
    "> **Exercice : ecrire une fonction `somme(f,l)` qui calcule la somme desx valeur de la fonction $f()$ (passée en paramêtre) pour tous les éléments de la liste l. Test en passant la fonction lambda qui calcule le carré d'un nombre**"
   ]
  },
  {
   "cell_type": "markdown",
   "metadata": {
    "slideshow": {
     "slide_type": "subslide"
    }
   },
   "source": [
    "## Les modules Python\n",
    "\n",
    "Lorsque les programmes deviennent vraiment très gros, il est nécessaire de les organiser par groupes de fonctionnalités indépendantes (principe du [\"separation of concerns\"](https://en.wikipedia.org/wiki/Separation_of_concerns)). \n",
    "\n",
    "Un programme qui intègre ces principes est appelé un programme modulaire, car il sépare son code en différent modules. La modularité, et donc la séparation des préoccupations, est obtenue en encapsulant des informations dans une section de code qui a une interface bien définie. L’encapsulation du code dans des modules amène un masquage de l’information. \n",
    "\n",
    "L’application du principe de séparation des préoccupations simplifie le développement et la maintenance des programmes informatiques. Quand les préoccupations sont strictement séparées, les différentes parties du code peuvent être réutilisées, étendues ou modifiées indépendamment des autres. Cela permet ainsi d’intervenir sur une partie du code sans avoir de connaissance particulière sur l’ensemble des autres parties."
   ]
  },
  {
   "cell_type": "markdown",
   "metadata": {
    "slideshow": {
     "slide_type": "subslide"
    }
   },
   "source": [
    "En Python un module est simplement un fichier `.py` regroupant plusieurs fonctions ou traitements.\n",
    "\n",
    "On peut accéder aux fonctions et variables définies dans le module en \"important\" le module.\n",
    "    \n",
    "Soit `mymodule.py` le nom du module qui contient :"
   ]
  },
  {
   "cell_type": "code",
   "execution_count": 39,
   "metadata": {
    "ExecuteTime": {
     "end_time": "2019-04-09T07:02:31.193632Z",
     "start_time": "2019-04-09T07:02:31.191155Z"
    }
   },
   "outputs": [],
   "source": [
    "def square(x,y):\n",
    "    return x**2 + 2*x*y + y**2"
   ]
  },
  {
   "cell_type": "markdown",
   "metadata": {},
   "source": [
    "Pour appeler la fonction `square`, on doit importer le module qui la contient\n",
    "\n",
    "`import mymodule`\n",
    "\n",
    "`monmodule.square(2,2)`\n",
    "\n",
    "`16`"
   ]
  },
  {
   "cell_type": "markdown",
   "metadata": {
    "slideshow": {
     "slide_type": "subslide"
    }
   },
   "source": [
    "## Documentation\n",
    "\n",
    "La documentation en python est très simple à mettre en oeuvre et il ne faut donc surtout pas s'en priver !"
   ]
  },
  {
   "cell_type": "code",
   "execution_count": 13,
   "metadata": {
    "collapsed": true
   },
   "outputs": [],
   "source": [
    "# mymodule.py\n",
    "\"\"\"\n",
    "Square module\n",
    "\"\"\"\n",
    "def square(x,y):\n",
    "    \"\"\"\n",
    "    Square function\n",
    "    \n",
    "    Computes x^2+2xy+y^2\n",
    "    \"\"\"\n",
    "    return x**2 + 2*x*y + y**2"
   ]
  },
  {
   "cell_type": "markdown",
   "metadata": {},
   "source": [
    "    >>> help(mymodule)\n",
    "    Help on module mymodule:\n",
    "    NAME\n",
    "        mymodule - Module square\n",
    "    FILE\n",
    "       /home/revel/Cours/Python/mymodule.py\n",
    "    FUNCTIONS\n",
    "       square(x, y)\n",
    "           Square function\n",
    "           Calcule x^2+2xy+y^2"
   ]
  },
  {
   "cell_type": "markdown",
   "metadata": {
    "slideshow": {
     "slide_type": "subslide"
    }
   },
   "source": [
    "On peut accéder simplement à la documentation en tappant `help(cmd)`."
   ]
  },
  {
   "cell_type": "markdown",
   "metadata": {
    "slideshow": {
     "slide_type": "subslide"
    }
   },
   "source": [
    "## Quelques fonctions et modules utiles\n",
    "\n",
    "Nous allons voir différents package usuels."
   ]
  },
  {
   "cell_type": "markdown",
   "metadata": {},
   "source": [
    "### Le package `__builtin__`\n",
    "\n",
    "C'est le package importé par défaut (pas besoin donc de le faire). Il comporte de nombreuses fonctions permettant de manipuler les types courants."
   ]
  },
  {
   "cell_type": "markdown",
   "metadata": {},
   "source": [
    "#### Fonctions d'affichage et de lecture"
   ]
  },
  {
   "cell_type": "code",
   "execution_count": 8,
   "metadata": {
    "ExecuteTime": {
     "end_time": "2019-04-15T14:34:37.091488Z",
     "start_time": "2019-04-15T14:34:37.087467Z"
    }
   },
   "outputs": [
    {
     "name": "stdout",
     "output_type": "stream",
     "text": [
      "Salut comment ça va ?\n"
     ]
    }
   ],
   "source": [
    "print(\"Salut\",\"comment\",\"ça\",\"va ?\")"
   ]
  },
  {
   "cell_type": "code",
   "execution_count": 9,
   "metadata": {
    "ExecuteTime": {
     "end_time": "2019-04-15T14:34:50.977930Z",
     "start_time": "2019-04-15T14:34:48.775777Z"
    }
   },
   "outputs": [
    {
     "name": "stdout",
     "output_type": "stream",
     "text": [
      "Entrez une valeur :10\n",
      "A= 10\n"
     ]
    }
   ],
   "source": [
    "a=input(\"Entrez une valeur :\")\n",
    "print(\"A=\",a)"
   ]
  },
  {
   "cell_type": "markdown",
   "metadata": {},
   "source": [
    "#### Fonctions de conversion de types"
   ]
  },
  {
   "cell_type": "code",
   "execution_count": 83,
   "metadata": {
    "ExecuteTime": {
     "end_time": "2019-04-09T08:53:28.768140Z",
     "start_time": "2019-04-09T08:53:28.764139Z"
    }
   },
   "outputs": [
    {
     "data": {
      "text/plain": [
       "(False, True)"
      ]
     },
     "execution_count": 83,
     "metadata": {},
     "output_type": "execute_result"
    }
   ],
   "source": [
    "bool(0), bool(10) # bool(x) > True si x !=0"
   ]
  },
  {
   "cell_type": "code",
   "execution_count": 85,
   "metadata": {
    "ExecuteTime": {
     "end_time": "2019-04-09T08:53:34.852309Z",
     "start_time": "2019-04-09T08:53:34.848373Z"
    }
   },
   "outputs": [
    {
     "data": {
      "text/plain": [
       "2"
      ]
     },
     "execution_count": 85,
     "metadata": {},
     "output_type": "execute_result"
    }
   ],
   "source": [
    "int(2.3)"
   ]
  },
  {
   "cell_type": "code",
   "execution_count": 114,
   "metadata": {
    "ExecuteTime": {
     "end_time": "2019-04-09T10:30:21.838828Z",
     "start_time": "2019-04-09T10:30:21.834907Z"
    }
   },
   "outputs": [
    {
     "data": {
      "text/plain": [
       "10.0"
      ]
     },
     "execution_count": 114,
     "metadata": {},
     "output_type": "execute_result"
    }
   ],
   "source": [
    "float(10)"
   ]
  },
  {
   "cell_type": "code",
   "execution_count": 89,
   "metadata": {
    "ExecuteTime": {
     "end_time": "2019-04-09T08:53:54.774828Z",
     "start_time": "2019-04-09T08:53:54.770901Z"
    }
   },
   "outputs": [
    {
     "data": {
      "text/plain": [
       "'A'"
      ]
     },
     "execution_count": 89,
     "metadata": {},
     "output_type": "execute_result"
    }
   ],
   "source": [
    "chr(65) # Charactère correspondant au code ASCII"
   ]
  },
  {
   "cell_type": "code",
   "execution_count": 93,
   "metadata": {
    "ExecuteTime": {
     "end_time": "2019-04-09T08:56:34.508514Z",
     "start_time": "2019-04-09T08:56:34.504938Z"
    }
   },
   "outputs": [
    {
     "data": {
      "text/plain": [
       "65"
      ]
     },
     "execution_count": 93,
     "metadata": {},
     "output_type": "execute_result"
    }
   ],
   "source": [
    "ord('A') # Code ASCII de..."
   ]
  },
  {
   "cell_type": "code",
   "execution_count": 110,
   "metadata": {
    "ExecuteTime": {
     "end_time": "2019-04-09T10:29:31.677136Z",
     "start_time": "2019-04-09T10:29:31.673144Z"
    }
   },
   "outputs": [
    {
     "data": {
      "text/plain": [
       "'12.0'"
      ]
     },
     "execution_count": 110,
     "metadata": {},
     "output_type": "execute_result"
    }
   ],
   "source": [
    "str(12.0)"
   ]
  },
  {
   "cell_type": "code",
   "execution_count": 151,
   "metadata": {
    "ExecuteTime": {
     "end_time": "2019-04-09T10:44:18.396110Z",
     "start_time": "2019-04-09T10:44:18.392301Z"
    }
   },
   "outputs": [
    {
     "data": {
      "text/plain": [
       "(1+2j)"
      ]
     },
     "execution_count": 151,
     "metadata": {},
     "output_type": "execute_result"
    }
   ],
   "source": [
    "complex(1,2)"
   ]
  },
  {
   "cell_type": "markdown",
   "metadata": {},
   "source": [
    "#### Fonctions de conversion de base"
   ]
  },
  {
   "cell_type": "code",
   "execution_count": 96,
   "metadata": {
    "ExecuteTime": {
     "end_time": "2019-04-09T08:59:00.025446Z",
     "start_time": "2019-04-09T08:59:00.021260Z"
    }
   },
   "outputs": [
    {
     "data": {
      "text/plain": [
       "'0b1010'"
      ]
     },
     "execution_count": 96,
     "metadata": {},
     "output_type": "execute_result"
    }
   ],
   "source": [
    "bin(20)"
   ]
  },
  {
   "cell_type": "code",
   "execution_count": 98,
   "metadata": {
    "ExecuteTime": {
     "end_time": "2019-04-09T08:59:13.009349Z",
     "start_time": "2019-04-09T08:59:13.005616Z"
    }
   },
   "outputs": [
    {
     "data": {
      "text/plain": [
       "'0o24'"
      ]
     },
     "execution_count": 98,
     "metadata": {},
     "output_type": "execute_result"
    }
   ],
   "source": [
    "oct(20)"
   ]
  },
  {
   "cell_type": "code",
   "execution_count": 106,
   "metadata": {
    "ExecuteTime": {
     "end_time": "2019-04-09T09:00:56.288316Z",
     "start_time": "2019-04-09T09:00:56.284583Z"
    }
   },
   "outputs": [
    {
     "data": {
      "text/plain": [
       "'0x14'"
      ]
     },
     "execution_count": 106,
     "metadata": {},
     "output_type": "execute_result"
    }
   ],
   "source": [
    "hex(20)"
   ]
  },
  {
   "cell_type": "markdown",
   "metadata": {},
   "source": [
    "#### Fonctions numériques"
   ]
  },
  {
   "cell_type": "code",
   "execution_count": 71,
   "metadata": {
    "ExecuteTime": {
     "end_time": "2019-04-09T08:50:33.789452Z",
     "start_time": "2019-04-09T08:50:33.786087Z"
    }
   },
   "outputs": [
    {
     "data": {
      "text/plain": [
       "1.4142135623730951"
      ]
     },
     "execution_count": 71,
     "metadata": {},
     "output_type": "execute_result"
    }
   ],
   "source": [
    "abs(-1) # Valeur absolue\n",
    "abs(1+1j) # Module"
   ]
  },
  {
   "cell_type": "code",
   "execution_count": 132,
   "metadata": {
    "ExecuteTime": {
     "end_time": "2019-04-09T10:35:13.591109Z",
     "start_time": "2019-04-09T10:35:13.587112Z"
    }
   },
   "outputs": [
    {
     "data": {
      "text/plain": [
       "(2, 1)"
      ]
     },
     "execution_count": 132,
     "metadata": {},
     "output_type": "execute_result"
    }
   ],
   "source": [
    "divmod(5,2) # division entière et reste"
   ]
  },
  {
   "cell_type": "code",
   "execution_count": 139,
   "metadata": {
    "ExecuteTime": {
     "end_time": "2019-04-09T10:36:57.932032Z",
     "start_time": "2019-04-09T10:36:57.928039Z"
    }
   },
   "outputs": [
    {
     "data": {
      "text/plain": [
       "8.0"
      ]
     },
     "execution_count": 139,
     "metadata": {},
     "output_type": "execute_result"
    }
   ],
   "source": [
    "pow(2.0,3.0)"
   ]
  },
  {
   "cell_type": "code",
   "execution_count": 140,
   "metadata": {
    "ExecuteTime": {
     "end_time": "2019-04-09T10:37:04.251697Z",
     "start_time": "2019-04-09T10:37:04.247734Z"
    }
   },
   "outputs": [
    {
     "data": {
      "text/plain": [
       "0.33"
      ]
     },
     "execution_count": 140,
     "metadata": {},
     "output_type": "execute_result"
    }
   ],
   "source": [
    "round(1/3,2)"
   ]
  },
  {
   "cell_type": "markdown",
   "metadata": {},
   "source": [
    "#### Les fonctions de gestion de fichiers\n",
    "\n",
    "Afin de pouvoir sauvegarder et récupérer des données traitées par un programme, il faut pouvoir manipuler des fichiers."
   ]
  },
  {
   "cell_type": "code",
   "execution_count": 3,
   "metadata": {
    "ExecuteTime": {
     "end_time": "2019-04-15T14:32:29.098542Z",
     "start_time": "2019-04-15T14:32:29.088113Z"
    }
   },
   "outputs": [
    {
     "name": "stdout",
     "output_type": "stream",
     "text": [
      "Test d'écriture\n",
      "\n",
      "Ligne 2\n"
     ]
    }
   ],
   "source": [
    "with open(\"./sortie.txt\",\"w\") as fichier: # Ouverture d'un fichier en écriture 'w' - write\n",
    "    fichier.write(\"Test d'écriture\\n\")\n",
    "    fichier.write(\"Ligne 2\")\n",
    "    \n",
    "with open(\"./sortie.txt\") as fichier:\n",
    "    for i in fichier:\n",
    "        print(i)"
   ]
  },
  {
   "cell_type": "markdown",
   "metadata": {
    "ExecuteTime": {
     "end_time": "2019-04-09T08:44:07.471519Z",
     "start_time": "2019-04-09T08:44:07.465541Z"
    }
   },
   "source": [
    "#### Les fonctions s'appliquant sur des conteneurs"
   ]
  },
  {
   "cell_type": "code",
   "execution_count": 138,
   "metadata": {
    "ExecuteTime": {
     "end_time": "2019-04-09T10:36:39.369507Z",
     "start_time": "2019-04-09T10:36:39.365460Z"
    }
   },
   "outputs": [
    {
     "data": {
      "text/plain": [
       "4"
      ]
     },
     "execution_count": 138,
     "metadata": {},
     "output_type": "execute_result"
    }
   ],
   "source": [
    "len([1,2,3,4])"
   ]
  },
  {
   "cell_type": "code",
   "execution_count": 130,
   "metadata": {
    "ExecuteTime": {
     "end_time": "2019-04-09T10:34:23.294814Z",
     "start_time": "2019-04-09T10:34:23.290418Z"
    },
    "scrolled": false
   },
   "outputs": [
    {
     "data": {
      "text/plain": [
       "(4, 1, 10)"
      ]
     },
     "execution_count": 130,
     "metadata": {},
     "output_type": "execute_result"
    }
   ],
   "source": [
    "max([1,2,3,4]),min([1,2,3,4]),sum([1,2,3,4])"
   ]
  },
  {
   "cell_type": "code",
   "execution_count": 141,
   "metadata": {
    "ExecuteTime": {
     "end_time": "2019-04-09T10:37:51.221889Z",
     "start_time": "2019-04-09T10:37:51.217672Z"
    }
   },
   "outputs": [
    {
     "data": {
      "text/plain": [
       "[1, 2, 3, 4]"
      ]
     },
     "execution_count": 141,
     "metadata": {},
     "output_type": "execute_result"
    }
   ],
   "source": [
    "sorted([4,2,1,3]) # Tri "
   ]
  },
  {
   "cell_type": "code",
   "execution_count": 162,
   "metadata": {
    "ExecuteTime": {
     "end_time": "2019-04-09T10:47:24.678080Z",
     "start_time": "2019-04-09T10:47:24.673728Z"
    }
   },
   "outputs": [
    {
     "data": {
      "text/plain": [
       "[(0, 'A'), (1, 'B'), (2, 'C')]"
      ]
     },
     "execution_count": 162,
     "metadata": {},
     "output_type": "execute_result"
    }
   ],
   "source": [
    "list(zip(range(3),[\"A\",\"B\",\"C\"])) # Association de 2 séquences de même taille"
   ]
  },
  {
   "cell_type": "code",
   "execution_count": 165,
   "metadata": {
    "ExecuteTime": {
     "end_time": "2019-04-09T10:48:06.680839Z",
     "start_time": "2019-04-09T10:48:06.676480Z"
    }
   },
   "outputs": [
    {
     "data": {
      "text/plain": [
       "[(0, 'A'), (1, 'B'), (2, 'C')]"
      ]
     },
     "execution_count": 165,
     "metadata": {},
     "output_type": "execute_result"
    }
   ],
   "source": [
    "list(enumerate([\"A\",\"B\",\"C\"])) # Numérote les éléments d'une séquence"
   ]
  },
  {
   "cell_type": "code",
   "execution_count": 145,
   "metadata": {
    "ExecuteTime": {
     "end_time": "2019-04-09T10:40:58.984381Z",
     "start_time": "2019-04-09T10:40:58.980860Z"
    }
   },
   "outputs": [
    {
     "data": {
      "text/plain": [
       "[1, 4, 9]"
      ]
     },
     "execution_count": 145,
     "metadata": {},
     "output_type": "execute_result"
    }
   ],
   "source": [
    "list(map(lambda x:x**2,(1,2,3))) # Application d'une fonction à tous les éléments d'un conteneur"
   ]
  },
  {
   "cell_type": "code",
   "execution_count": 152,
   "metadata": {
    "ExecuteTime": {
     "end_time": "2019-04-09T10:44:37.930429Z",
     "start_time": "2019-04-09T10:44:37.926164Z"
    }
   },
   "outputs": [
    {
     "data": {
      "text/plain": [
       "[2, 4]"
      ]
     },
     "execution_count": 152,
     "metadata": {},
     "output_type": "execute_result"
    }
   ],
   "source": [
    "list(filter(lambda x:x>0,[-1,2,-3,4]))"
   ]
  },
  {
   "cell_type": "code",
   "execution_count": 161,
   "metadata": {
    "ExecuteTime": {
     "end_time": "2019-04-09T10:46:45.863992Z",
     "start_time": "2019-04-09T10:46:45.859419Z"
    }
   },
   "outputs": [
    {
     "data": {
      "text/plain": [
       "(True, False, False)"
      ]
     },
     "execution_count": 161,
     "metadata": {},
     "output_type": "execute_result"
    }
   ],
   "source": [
    "all([1,1,1,1]),all([False,True,True,False]),all([0,0,0,0]) # Teste si toutes les valeurs sont vraies"
   ]
  },
  {
   "cell_type": "code",
   "execution_count": 160,
   "metadata": {
    "ExecuteTime": {
     "end_time": "2019-04-09T10:46:34.008034Z",
     "start_time": "2019-04-09T10:46:34.003701Z"
    }
   },
   "outputs": [
    {
     "data": {
      "text/plain": [
       "(True, True, False)"
      ]
     },
     "execution_count": 160,
     "metadata": {},
     "output_type": "execute_result"
    }
   ],
   "source": [
    "any([1,1,1,1]),any([False,True,True,False]),any([0,0,0,0]) # Teste si au moins une valeurs est vraie"
   ]
  },
  {
   "cell_type": "markdown",
   "metadata": {},
   "source": [
    "> **Exercice : trouver la position du max dans une liste (utiliser enumerate et max bien paramétré)**"
   ]
  },
  {
   "cell_type": "markdown",
   "metadata": {},
   "source": [
    "#### Les fonctions sur les chaînes"
   ]
  },
  {
   "cell_type": "code",
   "execution_count": 52,
   "metadata": {
    "ExecuteTime": {
     "end_time": "2019-04-09T08:39:10.412820Z",
     "start_time": "2019-04-09T08:39:10.408858Z"
    }
   },
   "outputs": [
    {
     "data": {
      "text/plain": [
       "['Comment', 'allez', 'vous', '?']"
      ]
     },
     "execution_count": 52,
     "metadata": {},
     "output_type": "execute_result"
    }
   ],
   "source": [
    "\"Comment allez vous ?\".split()"
   ]
  },
  {
   "cell_type": "code",
   "execution_count": 172,
   "metadata": {
    "ExecuteTime": {
     "end_time": "2019-04-09T10:56:35.957819Z",
     "start_time": "2019-04-09T10:56:35.953732Z"
    }
   },
   "outputs": [
    {
     "data": {
      "text/plain": [
       "'Salut 2 1'"
      ]
     },
     "execution_count": 172,
     "metadata": {},
     "output_type": "execute_result"
    }
   ],
   "source": [
    "\"Salut {1} {0}\".format(1,2)"
   ]
  },
  {
   "cell_type": "code",
   "execution_count": 199,
   "metadata": {
    "ExecuteTime": {
     "end_time": "2019-04-09T11:03:39.498449Z",
     "start_time": "2019-04-09T11:03:39.494084Z"
    }
   },
   "outputs": [
    {
     "data": {
      "text/plain": [
       "(True, False)"
      ]
     },
     "execution_count": 199,
     "metadata": {},
     "output_type": "execute_result"
    }
   ],
   "source": [
    "\"Salut les copains\".startswith(\"Salut\"),\"Salut les copains\".endswith(\"amis\")"
   ]
  },
  {
   "cell_type": "markdown",
   "metadata": {
    "collapsed": true,
    "slideshow": {
     "slide_type": "slide"
    }
   },
   "source": [
    "# Python : un langage orienté objet et un langage fonctionnel (?)\n",
    "\n",
    "On a vu que Python pouvait être utilisé en adoptant différents principes de programmation : script, procédural...\n",
    "\n",
    "Parmi les autres grands \"paradigmes\" de programmation, on trouve aussi la programmation orientée objet, la programmation fonctionnelle, la programmation logique... Certaines de ces méthodes de programmation seront présentées plus en détails dans d'autres blocs.\n",
    "\n",
    "En plus des types de programmation que nous avons abordées, Python est un langage qui permet d'utiliser le paradigme \"objet\" et, dans une certaine mesure, le paradigme fonctionnel.\n",
    "\n",
    "## Programmation orientée objet\n",
    "\n",
    "La programmation orientée objet (POO), permet de définie et de mettre en interaction des briques logicielles appelées objets. Un objet représente un concept, une idée ou toute entité du monde physique, comme une voiture, une personne ou encore une page d'un livre. Il possède une structure interne et un comportement, et il peut interagir avec d'autres objet. Il s'agit donc de représenter ces objets et leurs relations ; l'interaction entre les objets via leurs relations permet de concevoir et réaliser les fonctionnalités attendues, de mieux résoudre le ou les problèmes. Dès lors, l'étape de modélisation revêt une importance majeure et nécessaire pour la POO. C'est elle qui permet de transcrire les éléments du réel sous forme virtuelle.\n",
    "\n",
    "\n",
    "## Programmation fonctionnelle\n",
    "La programmation fonctionnelle considère le calcul en tant qu'évaluation de fonctions mathématiques.\n",
    "\n",
    "Un langage \"fonctionnel\" est un langage dont la syntaxe incite à programmer en respectant les caractérstiques des fonctions mathématiques : les données immuables, les fonctions sont des objets de première classe et la récursivité possède une optimisation de la récursion terminale. \n",
    "\n",
    "Python ne possède pas ces caractéristiques. Pour autant, on peut écrire en Python en respectant le paradigme fonctionnel si on considère uniquement des fonctions, c'est-à-dire qu'on s'assure de l'absence d'effets de bord. Le code ne dépend pas de données se trouvant à l'extérieur de la fonction courante et il ne modifie pas des données à l'extérieur de cette fonction. "
   ]
  }
 ],
 "metadata": {
  "celltoolbar": "Slideshow",
  "kernelspec": {
   "display_name": "Python 3",
   "language": "python",
   "name": "python3"
  },
  "language_info": {
   "codemirror_mode": {
    "name": "ipython",
    "version": 3
   },
   "file_extension": ".py",
   "mimetype": "text/x-python",
   "name": "python",
   "nbconvert_exporter": "python",
   "pygments_lexer": "ipython3",
   "version": "3.6.8"
  },
  "toc": {
   "base_numbering": 1,
   "nav_menu": {},
   "number_sections": true,
   "sideBar": true,
   "skip_h1_title": false,
   "title_cell": "Table of Contents",
   "title_sidebar": "Contents",
   "toc_cell": false,
   "toc_position": {
    "height": "calc(100% - 180px)",
    "left": "10px",
    "top": "150px",
    "width": "336px"
   },
   "toc_section_display": true,
   "toc_window_display": true
  }
 },
 "nbformat": 4,
 "nbformat_minor": 1
}
