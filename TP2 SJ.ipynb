{
  "nbformat": 4,
  "nbformat_minor": 0,
  "metadata": {
    "kernelspec": {
      "display_name": "Python 3",
      "language": "python",
      "name": "python3"
    },
    "language_info": {
      "codemirror_mode": {
        "name": "ipython",
        "version": 3
      },
      "file_extension": ".py",
      "mimetype": "text/x-python",
      "name": "python",
      "nbconvert_exporter": "python",
      "pygments_lexer": "ipython3",
      "version": "3.7.3"
    },
    "colab": {
      "name": "TP2.ipynb",
      "provenance": [],
      "collapsed_sections": [
        "LAQQ356bVhCG",
        "RyO71Op8VhCJ",
        "SYOxkQAJVhCL",
        "3rYF8cihVhCS",
        "-dxOxrFOVhCV",
        "f3FGXR4yVhCg"
      ]
    }
  },
  "cells": [
    {
      "cell_type": "markdown",
      "metadata": {
        "id": "VfAN7MbPVhBA",
        "colab_type": "text"
      },
      "source": [
        "<h1><center>Travaux Pratiques 2 : classification supervisée</centre></h1>\n",
        "\n",
        "\n",
        "On va maintenant travailler avec sur une base de données réelle, et très connue : la base Titanic. Seuls 38% des passagers ont survécu a la traversée du Titanic. \n",
        "\n",
        "Il s’agit d'être capable de prédire la survie (ou non) des passagers en fonction de différents attributs liés à leur âge, sexe, et aux conditions de voyage. \n",
        "\n",
        "Les attributs contenus dans la base sont :\n",
        "\n",
        "- PassengerId: Unique ID of the passenger\n",
        "- Survived: Survived (1) or died (0)\n",
        "- Pclass: Passenger's class (1st, 2nd, or 3rd)\n",
        "- Passenger’s name\n",
        "- Passenger’s sex (male/female)\n",
        "- Passenger’s age\n",
        "- SibSp: Number of siblings/spouses aboard the Titanic\n",
        "- Parch: Number of parents/children aboard the Titanic\n",
        "- Ticket: Ticket number\n",
        "- Fare: Fare paid for ticket\n",
        "- Cabin: Cabin number\n",
        "- Embarked: Where the passenger got on the ship (C - Cherbourg, S - Southampton, Q = Queenstown)\n",
        "\n",
        "Voici quelques graphiques qui se passent de trop de commentaires pour décrire les données :"
      ]
    },
    {
      "cell_type": "markdown",
      "metadata": {
        "id": "fwL7_E5jVhBB",
        "colab_type": "text"
      },
      "source": [
        "![Screen%20Shot%202019-11-16%20at%206.50.54%20PM.png](attachment:Screen%20Shot%202019-11-16%20at%206.50.54%20PM.png)\n",
        "\n",
        "![Screen%20Shot%202019-11-16%20at%206.52.17%20PM.png](attachment:Screen%20Shot%202019-11-16%20at%206.52.17%20PM.png)"
      ]
    },
    {
      "cell_type": "markdown",
      "metadata": {
        "id": "HcFnl67MVhBC",
        "colab_type": "text"
      },
      "source": [
        "1. Quelle est la variable a expliquer ? Quelles sont les variables explicatives ?"
      ]
    },
    {
      "cell_type": "markdown",
      "metadata": {
        "id": "rTFR9QWtVhBD",
        "colab_type": "text"
      },
      "source": [
        "* Variable a expliquer: Survived\n",
        "* Variable explicatives: Toutes les autres"
      ]
    },
    {
      "cell_type": "markdown",
      "metadata": {
        "id": "AfSwVL3lVhBD",
        "colab_type": "text"
      },
      "source": [
        "2. Toutes les variables explicatives vous semblent-elles vraiment pertinentes ? N’y en a-t-il pas que vous pourriez supprimer avant même de commencer l’analyse ? Si oui, lesquelles ?"
      ]
    },
    {
      "cell_type": "markdown",
      "metadata": {
        "id": "lYvyxN7ngRE4",
        "colab_type": "text"
      },
      "source": [
        "Variables explicatives pertinentes: \n",
        "\n",
        "* Embarked\n",
        "* Survived\n",
        "* Pclass\n",
        "* Sex\n",
        "* Age\n",
        "* SibSp\n",
        "* Parch\n",
        "* Fare\n",
        "\n",
        "\n",
        "\n",
        "\n"
      ]
    },
    {
      "cell_type": "markdown",
      "metadata": {
        "id": "JcPObgJkVhBE",
        "colab_type": "text"
      },
      "source": [
        "## A. Importer et préparer les données\n",
        "\n",
        "A la différence du TD, on va vraiment utiliser une base d’apprentissage (sur laquelle on va ajuster le modèle) et une base de test (sur laquelle on va tester le modèle). On va aléatoirement construire ces deux bases à partir du jeu de données complet Titanic.csv, mais ça, c’est pour plus tard. D’abord, on va préparer les données, autrement dit les nettoyer un peu. On va commencer par importer les librairies dont on aura besoin."
      ]
    },
    {
      "cell_type": "code",
      "metadata": {
        "id": "5SIPSxc6VhBF",
        "colab_type": "code",
        "colab": {}
      },
      "source": [
        "import numpy as np\n",
        "import matplotlib.pyplot as plt\n",
        "import pandas as pd"
      ],
      "execution_count": 0,
      "outputs": []
    },
    {
      "cell_type": "markdown",
      "metadata": {
        "id": "QjJb0w6FVhBH",
        "colab_type": "text"
      },
      "source": [
        "3. A l'aide des commandes ci-après, chargez le jeu de données complet dans une matrice (ou plus précisément un DataFrame pandas) que vous appellerez Titanic. Combien d’enregistrements et d’attributs a-t-on dans ce jeu de données ? Les commandes sont données ci-après; lisez-les et comprenez-en la syntaxe."
      ]
    },
    {
      "cell_type": "code",
      "metadata": {
        "id": "prLNBohhViwu",
        "colab_type": "code",
        "outputId": "6947b5c5-89a3-447e-c1fa-6b506c303e5d",
        "colab": {
          "resources": {
            "http://localhost:8080/nbextensions/google.colab/files.js": {
              "data": "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",
              "ok": true,
              "headers": [
                [
                  "content-type",
                  "application/javascript"
                ]
              ],
              "status": 200,
              "status_text": ""
            }
          },
          "base_uri": "https://localhost:8080/",
          "height": 74
        }
      },
      "source": [
        "from google.colab import files\n",
        "uploaded = files.upload()"
      ],
      "execution_count": 5,
      "outputs": [
        {
          "output_type": "display_data",
          "data": {
            "text/html": [
              "\n",
              "     <input type=\"file\" id=\"files-da651c26-04db-440d-9712-8ebdd76a078d\" name=\"files[]\" multiple disabled />\n",
              "     <output id=\"result-da651c26-04db-440d-9712-8ebdd76a078d\">\n",
              "      Upload widget is only available when the cell has been executed in the\n",
              "      current browser session. Please rerun this cell to enable.\n",
              "      </output>\n",
              "      <script src=\"/nbextensions/google.colab/files.js\"></script> "
            ],
            "text/plain": [
              "<IPython.core.display.HTML object>"
            ]
          },
          "metadata": {
            "tags": []
          }
        },
        {
          "output_type": "stream",
          "text": [
            "Saving Titanic.csv to Titanic (1).csv\n"
          ],
          "name": "stdout"
        }
      ]
    },
    {
      "cell_type": "code",
      "metadata": {
        "id": "RKLbw1S0VhBI",
        "colab_type": "code",
        "outputId": "c1f5d11b-2136-438c-e534-58cf01bdb784",
        "colab": {
          "base_uri": "https://localhost:8080/",
          "height": 34
        }
      },
      "source": [
        "Titanic=pd.read_csv(\"Titanic.csv\")\n",
        "print(Titanic.shape)"
      ],
      "execution_count": 6,
      "outputs": [
        {
          "output_type": "stream",
          "text": [
            "(891, 12)\n"
          ],
          "name": "stdout"
        }
      ]
    },
    {
      "cell_type": "markdown",
      "metadata": {
        "id": "OpXJTAV_VhBK",
        "colab_type": "text"
      },
      "source": [
        ""
      ]
    },
    {
      "cell_type": "markdown",
      "metadata": {
        "id": "4wnrGnqOVhBK",
        "colab_type": "text"
      },
      "source": [
        "4. Supprimez les attributs explicatifs que vous avez identifiés comme inutiles a la question 2 (ou, autrement dit, ne gardez que les autres). Indice : il vous faudra utiliser la propriété iloc d'un DataFrame pandas (par exemple, si on ne veut conserver que la première et la troisième colonne d'un DataFrame pandas X, il faudra écrire : X=X.iloc[:,[0,2]]). Au final, vous devriez conserver 8 attributs."
      ]
    },
    {
      "cell_type": "code",
      "metadata": {
        "id": "Csh3EvrNVhBL",
        "colab_type": "code",
        "colab": {}
      },
      "source": [
        "Titanic=Titanic.iloc[:,[1,2,4,5,6,7,9,11]]"
      ],
      "execution_count": 0,
      "outputs": []
    },
    {
      "cell_type": "markdown",
      "metadata": {
        "id": "qvabHMIqVhBN",
        "colab_type": "text"
      },
      "source": [
        "5. Supprimez les enregistrements avec des valeurs indéfinies (NaN), car la plupart des classifieurs que nous allons utiliser ne peuvent pas les gérer (d’autres modèles le peuvent, mais pas celui-là). Pour cela, lancez la commande :"
      ]
    },
    {
      "cell_type": "code",
      "metadata": {
        "id": "-wNn5V1BVhBO",
        "colab_type": "code",
        "colab": {}
      },
      "source": [
        "# Suppression des données manquantes\n",
        "Titanic=Titanic.dropna(axis=0, how='any')"
      ],
      "execution_count": 0,
      "outputs": []
    },
    {
      "cell_type": "markdown",
      "metadata": {
        "id": "IBYomYf8VhBQ",
        "colab_type": "text"
      },
      "source": [
        "6. Combien d'enregistrements vous reste-t-il ? Indice : pour répondre à la question, utilisez la propriété shape d'un DataFrame pandas (vue plus haut)."
      ]
    },
    {
      "cell_type": "code",
      "metadata": {
        "id": "bAECwmGjVhBQ",
        "colab_type": "code",
        "outputId": "05d6ec5e-41a1-459c-f03f-76984c43ea24",
        "colab": {
          "base_uri": "https://localhost:8080/",
          "height": 34
        }
      },
      "source": [
        "print(Titanic.shape)"
      ],
      "execution_count": 9,
      "outputs": [
        {
          "output_type": "stream",
          "text": [
            "(712, 8)\n"
          ],
          "name": "stdout"
        }
      ]
    },
    {
      "cell_type": "markdown",
      "metadata": {
        "id": "ZrhJ_uKmVhBS",
        "colab_type": "text"
      },
      "source": [
        ""
      ]
    },
    {
      "cell_type": "markdown",
      "metadata": {
        "id": "owi4dsSoVhBS",
        "colab_type": "text"
      },
      "source": [
        "7. On prépare maintenant les données. Expliquez ce que fait chacune des lignes ci-après. "
      ]
    },
    {
      "cell_type": "code",
      "metadata": {
        "id": "NTzXFqfUVhBT",
        "colab_type": "code",
        "colab": {}
      },
      "source": [
        "# Codage en quantitatif des attributs \"Embarked\" et \"Sex\", codage en qualitatif de l'attribut \"Survived\"\n",
        "import numpy as np\n",
        "Titanic[\"Sex_cleaned\"]=np.where(Titanic[\"Sex\"]==\"male\",0,1)\n",
        "Titanic[\"Embarked_cleaned\"]=np.where(Titanic[\"Embarked\"]==\"S\",0,\n",
        "                                  np.where(Titanic[\"Embarked\"]==\"C\",1,\n",
        "                                           np.where(Titanic[\"Embarked\"]==\"Q\",2,3)\n",
        "                                          )\n",
        "                                 )\n",
        "Titanic[\"Survived_cleaned\"]=np.where(Titanic[\"Survived\"]==0,\"Not Survived\",\"Survived\")"
      ],
      "execution_count": 0,
      "outputs": []
    },
    {
      "cell_type": "markdown",
      "metadata": {
        "id": "-75B9NHgVhBW",
        "colab_type": "text"
      },
      "source": [
        "* On rajoute un attribut \"Sex_cleaned\" la valeur 0 pour \"male\" sinon 1 \n",
        "* On rajoute un attribut \"Embarked_cleaned\"  la valeur 0 par S, 1 pour C et 2 pour Q sinon 3\n",
        "* On rajoute un attribut \"Survived_cleaned\" la valeur \"Not survived\" pour 0 sinon \"Survived\""
      ]
    },
    {
      "cell_type": "markdown",
      "metadata": {
        "id": "9qoT6c9AVhBW",
        "colab_type": "text"
      },
      "source": [
        "8. Avec la fonction head() qui s'applique sur un DataFrame pandas, visualisez le nouveau jeu de données. Combien d’attributs comporte la matrice Titanic à présent ?"
      ]
    },
    {
      "cell_type": "code",
      "metadata": {
        "id": "jkkAD3UiVhBX",
        "colab_type": "code",
        "outputId": "03b5a871-6cb3-4507-e8fb-eae1dadf6838",
        "colab": {
          "base_uri": "https://localhost:8080/",
          "height": 204
        }
      },
      "source": [
        "Titanic.head()"
      ],
      "execution_count": 11,
      "outputs": [
        {
          "output_type": "execute_result",
          "data": {
            "text/html": [
              "<div>\n",
              "<style scoped>\n",
              "    .dataframe tbody tr th:only-of-type {\n",
              "        vertical-align: middle;\n",
              "    }\n",
              "\n",
              "    .dataframe tbody tr th {\n",
              "        vertical-align: top;\n",
              "    }\n",
              "\n",
              "    .dataframe thead th {\n",
              "        text-align: right;\n",
              "    }\n",
              "</style>\n",
              "<table border=\"1\" class=\"dataframe\">\n",
              "  <thead>\n",
              "    <tr style=\"text-align: right;\">\n",
              "      <th></th>\n",
              "      <th>Survived</th>\n",
              "      <th>Pclass</th>\n",
              "      <th>Sex</th>\n",
              "      <th>Age</th>\n",
              "      <th>SibSp</th>\n",
              "      <th>Parch</th>\n",
              "      <th>Fare</th>\n",
              "      <th>Embarked</th>\n",
              "      <th>Sex_cleaned</th>\n",
              "      <th>Embarked_cleaned</th>\n",
              "      <th>Survived_cleaned</th>\n",
              "    </tr>\n",
              "  </thead>\n",
              "  <tbody>\n",
              "    <tr>\n",
              "      <th>0</th>\n",
              "      <td>0</td>\n",
              "      <td>3</td>\n",
              "      <td>male</td>\n",
              "      <td>22.0</td>\n",
              "      <td>1</td>\n",
              "      <td>0</td>\n",
              "      <td>7.2500</td>\n",
              "      <td>S</td>\n",
              "      <td>0</td>\n",
              "      <td>0</td>\n",
              "      <td>Not Survived</td>\n",
              "    </tr>\n",
              "    <tr>\n",
              "      <th>1</th>\n",
              "      <td>1</td>\n",
              "      <td>1</td>\n",
              "      <td>female</td>\n",
              "      <td>38.0</td>\n",
              "      <td>1</td>\n",
              "      <td>0</td>\n",
              "      <td>71.2833</td>\n",
              "      <td>C</td>\n",
              "      <td>1</td>\n",
              "      <td>1</td>\n",
              "      <td>Survived</td>\n",
              "    </tr>\n",
              "    <tr>\n",
              "      <th>2</th>\n",
              "      <td>1</td>\n",
              "      <td>3</td>\n",
              "      <td>female</td>\n",
              "      <td>26.0</td>\n",
              "      <td>0</td>\n",
              "      <td>0</td>\n",
              "      <td>7.9250</td>\n",
              "      <td>S</td>\n",
              "      <td>1</td>\n",
              "      <td>0</td>\n",
              "      <td>Survived</td>\n",
              "    </tr>\n",
              "    <tr>\n",
              "      <th>3</th>\n",
              "      <td>1</td>\n",
              "      <td>1</td>\n",
              "      <td>female</td>\n",
              "      <td>35.0</td>\n",
              "      <td>1</td>\n",
              "      <td>0</td>\n",
              "      <td>53.1000</td>\n",
              "      <td>S</td>\n",
              "      <td>1</td>\n",
              "      <td>0</td>\n",
              "      <td>Survived</td>\n",
              "    </tr>\n",
              "    <tr>\n",
              "      <th>4</th>\n",
              "      <td>0</td>\n",
              "      <td>3</td>\n",
              "      <td>male</td>\n",
              "      <td>35.0</td>\n",
              "      <td>0</td>\n",
              "      <td>0</td>\n",
              "      <td>8.0500</td>\n",
              "      <td>S</td>\n",
              "      <td>0</td>\n",
              "      <td>0</td>\n",
              "      <td>Not Survived</td>\n",
              "    </tr>\n",
              "  </tbody>\n",
              "</table>\n",
              "</div>"
            ],
            "text/plain": [
              "   Survived  Pclass     Sex  ...  Sex_cleaned  Embarked_cleaned  Survived_cleaned\n",
              "0         0       3    male  ...            0                 0      Not Survived\n",
              "1         1       1  female  ...            1                 1          Survived\n",
              "2         1       3  female  ...            1                 0          Survived\n",
              "3         1       1  female  ...            1                 0          Survived\n",
              "4         0       3    male  ...            0                 0      Not Survived\n",
              "\n",
              "[5 rows x 11 columns]"
            ]
          },
          "metadata": {
            "tags": []
          },
          "execution_count": 11
        }
      ]
    },
    {
      "cell_type": "markdown",
      "metadata": {
        "id": "89p3rfgdVhBY",
        "colab_type": "text"
      },
      "source": [
        ""
      ]
    },
    {
      "cell_type": "markdown",
      "metadata": {
        "id": "0b0xfFHHVhBZ",
        "colab_type": "text"
      },
      "source": [
        "9. Supprimez les attributs explicatifs Sex, Embarked et Survived originaux, et ne gardez que ceux que vous venez de nettoyer. Vérifiez qu'il ne vous reste bien que 8 attributs."
      ]
    },
    {
      "cell_type": "code",
      "metadata": {
        "id": "C6MX87i4VhBZ",
        "colab_type": "code",
        "colab": {}
      },
      "source": [
        "Titanic=Titanic.iloc[:,[1,3,4,5,6,8,9,10]]"
      ],
      "execution_count": 0,
      "outputs": []
    },
    {
      "cell_type": "code",
      "metadata": {
        "id": "OlwTRsxTEA8K",
        "colab_type": "code",
        "outputId": "cb7f489d-ea08-47d2-938d-ce07f6e0d88f",
        "colab": {
          "base_uri": "https://localhost:8080/",
          "height": 204
        }
      },
      "source": [
        "Titanic.head()"
      ],
      "execution_count": 13,
      "outputs": [
        {
          "output_type": "execute_result",
          "data": {
            "text/html": [
              "<div>\n",
              "<style scoped>\n",
              "    .dataframe tbody tr th:only-of-type {\n",
              "        vertical-align: middle;\n",
              "    }\n",
              "\n",
              "    .dataframe tbody tr th {\n",
              "        vertical-align: top;\n",
              "    }\n",
              "\n",
              "    .dataframe thead th {\n",
              "        text-align: right;\n",
              "    }\n",
              "</style>\n",
              "<table border=\"1\" class=\"dataframe\">\n",
              "  <thead>\n",
              "    <tr style=\"text-align: right;\">\n",
              "      <th></th>\n",
              "      <th>Pclass</th>\n",
              "      <th>Age</th>\n",
              "      <th>SibSp</th>\n",
              "      <th>Parch</th>\n",
              "      <th>Fare</th>\n",
              "      <th>Sex_cleaned</th>\n",
              "      <th>Embarked_cleaned</th>\n",
              "      <th>Survived_cleaned</th>\n",
              "    </tr>\n",
              "  </thead>\n",
              "  <tbody>\n",
              "    <tr>\n",
              "      <th>0</th>\n",
              "      <td>3</td>\n",
              "      <td>22.0</td>\n",
              "      <td>1</td>\n",
              "      <td>0</td>\n",
              "      <td>7.2500</td>\n",
              "      <td>0</td>\n",
              "      <td>0</td>\n",
              "      <td>Not Survived</td>\n",
              "    </tr>\n",
              "    <tr>\n",
              "      <th>1</th>\n",
              "      <td>1</td>\n",
              "      <td>38.0</td>\n",
              "      <td>1</td>\n",
              "      <td>0</td>\n",
              "      <td>71.2833</td>\n",
              "      <td>1</td>\n",
              "      <td>1</td>\n",
              "      <td>Survived</td>\n",
              "    </tr>\n",
              "    <tr>\n",
              "      <th>2</th>\n",
              "      <td>3</td>\n",
              "      <td>26.0</td>\n",
              "      <td>0</td>\n",
              "      <td>0</td>\n",
              "      <td>7.9250</td>\n",
              "      <td>1</td>\n",
              "      <td>0</td>\n",
              "      <td>Survived</td>\n",
              "    </tr>\n",
              "    <tr>\n",
              "      <th>3</th>\n",
              "      <td>1</td>\n",
              "      <td>35.0</td>\n",
              "      <td>1</td>\n",
              "      <td>0</td>\n",
              "      <td>53.1000</td>\n",
              "      <td>1</td>\n",
              "      <td>0</td>\n",
              "      <td>Survived</td>\n",
              "    </tr>\n",
              "    <tr>\n",
              "      <th>4</th>\n",
              "      <td>3</td>\n",
              "      <td>35.0</td>\n",
              "      <td>0</td>\n",
              "      <td>0</td>\n",
              "      <td>8.0500</td>\n",
              "      <td>0</td>\n",
              "      <td>0</td>\n",
              "      <td>Not Survived</td>\n",
              "    </tr>\n",
              "  </tbody>\n",
              "</table>\n",
              "</div>"
            ],
            "text/plain": [
              "   Pclass   Age  SibSp  ...  Sex_cleaned  Embarked_cleaned  Survived_cleaned\n",
              "0       3  22.0      1  ...            0                 0      Not Survived\n",
              "1       1  38.0      1  ...            1                 1          Survived\n",
              "2       3  26.0      0  ...            1                 0          Survived\n",
              "3       1  35.0      1  ...            1                 0          Survived\n",
              "4       3  35.0      0  ...            0                 0      Not Survived\n",
              "\n",
              "[5 rows x 8 columns]"
            ]
          },
          "metadata": {
            "tags": []
          },
          "execution_count": 13
        }
      ]
    },
    {
      "cell_type": "markdown",
      "metadata": {
        "id": "3zFxsZaWVhBb",
        "colab_type": "text"
      },
      "source": [
        "## B. Séparer les données en base d'apprentissage / base de test\n",
        "\n",
        "Pour mener à bien notre analyse, on va découper nos données en une base d'apprentissage et une base de test (proportions : $\\frac{2}{3}$, $\\frac{1}{3}$). La division se fait de manière PRESQUE aléatoire, car on va chercher à créer des bases qui contiennent à peu près les mêmes proportions de personnes qui ont survécu ou non que dans la base globale, grâce à l’option Stratify."
      ]
    },
    {
      "cell_type": "markdown",
      "metadata": {
        "id": "G53zuGfpVhBc",
        "colab_type": "text"
      },
      "source": [
        "10. Ce découpage se fait grâce au code ci-après. Expliquez ce code ligne à ligne."
      ]
    },
    {
      "cell_type": "code",
      "metadata": {
        "id": "AtXKzQb4VhBc",
        "colab_type": "code",
        "colab": {}
      },
      "source": [
        "from sklearn.model_selection import train_test_split\n",
        "import time\n",
        "Titanic_train, Titanic_test = train_test_split(Titanic, test_size=1/3, random_state=int(time.time()), stratify=Titanic[\"Survived_cleaned\"])"
      ],
      "execution_count": 0,
      "outputs": []
    },
    {
      "cell_type": "markdown",
      "metadata": {
        "id": "iDMx5ttuVhBf",
        "colab_type": "text"
      },
      "source": [
        "Création de la base de test \"Titanic_test\" pour 1/3 et de la base d'apprentissage \"Titanic_train\" pour 2/3 de façon aléatoire en gardant la même proportion de \"survived\" et \"Not survived\" sur l'attribut \"Survived_cleaned\""
      ]
    },
    {
      "cell_type": "markdown",
      "metadata": {
        "id": "6bdADL_uVhBf",
        "colab_type": "text"
      },
      "source": [
        "11. Ecrire le code permettant de savoir combien d’enregistrements comporte la base d'apprentissage ? La base de test ? Quelles proportions de personnes ont survécu dans le jeu de données nettoyé \"global\" ? La base d’apprentissage ? La base de test ?"
      ]
    },
    {
      "cell_type": "code",
      "metadata": {
        "id": "DNgmvFuBVhBg",
        "colab_type": "code",
        "outputId": "8a8131ff-2141-4e03-b72b-56ccb2b30f26",
        "colab": {
          "base_uri": "https://localhost:8080/",
          "height": 102
        }
      },
      "source": [
        "print(Titanic_test.shape)\n",
        "print(Titanic_train.shape)\n",
        "print(\"nombre de vivants au total\",Titanic[Titanic[\"Survived_cleaned\"]==\"Survived\"].shape[0])\n",
        "print(\"nombre de vivants dans Titanic_train\",Titanic_train[Titanic_train[\"Survived_cleaned\"]==\"Survived\"].shape[0])\n",
        "print(\"nombre de vivants dans Titanic_test\",Titanic_test[Titanic_test[\"Survived_cleaned\"]==\"Survived\"].shape[0])"
      ],
      "execution_count": 15,
      "outputs": [
        {
          "output_type": "stream",
          "text": [
            "(238, 8)\n",
            "(474, 8)\n",
            "nombre de vivants au total 288\n",
            "nombre de vivants dans Titanic_train 192\n",
            "nombre de vivants dans Titanic_test 96\n"
          ],
          "name": "stdout"
        }
      ]
    },
    {
      "cell_type": "markdown",
      "metadata": {
        "id": "V8W__Gt3VhBi",
        "colab_type": "text"
      },
      "source": [
        ""
      ]
    },
    {
      "cell_type": "markdown",
      "metadata": {
        "id": "KONCnx5AVhBi",
        "colab_type": "text"
      },
      "source": [
        "12. A partir de la matrice Titanic_train, créez une matrice Titanic_TrainX contenant toutes les variables explicatives et un vecteur Titanic_TrainY contenant la variable à expliquer. Faites de même avec la matrice Titanic_test pour obtenir la matrice Titanic_TestX et le vecteur Titanic_TestY."
      ]
    },
    {
      "cell_type": "code",
      "metadata": {
        "id": "T_v1244YVhBj",
        "colab_type": "code",
        "outputId": "b5874a85-7da5-4f35-b697-cbfcd77539fd",
        "colab": {
          "base_uri": "https://localhost:8080/",
          "height": 969
        }
      },
      "source": [
        "Titanic_trainX=Titanic_train.iloc[:,[0,1,2,3,4,5,6]]\n",
        "Titanic_trainY=Titanic_train.iloc[:,[7]]\n",
        "print(Titanic_trainX)\n",
        "print(Titanic_trainY)\n",
        "Titanic_testX=Titanic_test.iloc[:,[0,1,2,3,4,5,6]]\n",
        "Titanic_testY=Titanic_test.iloc[:,[7]]\n",
        "print(Titanic_testX)\n",
        "print(Titanic_testY)"
      ],
      "execution_count": 16,
      "outputs": [
        {
          "output_type": "stream",
          "text": [
            "     Pclass   Age  SibSp  Parch      Fare  Sex_cleaned  Embarked_cleaned\n",
            "309       1  30.0      0      0   56.9292            1                 1\n",
            "341       1  24.0      3      2  263.0000            1                 0\n",
            "261       3   3.0      4      2   31.3875            0                 0\n",
            "406       3  51.0      0      0    7.7500            0                 0\n",
            "37        3  21.0      0      0    8.0500            0                 0\n",
            "..      ...   ...    ...    ...       ...          ...               ...\n",
            "199       2  24.0      0      0   13.0000            1                 0\n",
            "363       3  35.0      0      0    7.0500            0                 0\n",
            "530       2   2.0      1      1   26.0000            1                 0\n",
            "366       1  60.0      1      0   75.2500            1                 1\n",
            "699       3  42.0      0      0    7.6500            0                 0\n",
            "\n",
            "[474 rows x 7 columns]\n",
            "    Survived_cleaned\n",
            "309         Survived\n",
            "341         Survived\n",
            "261         Survived\n",
            "406     Not Survived\n",
            "37      Not Survived\n",
            "..               ...\n",
            "199     Not Survived\n",
            "363     Not Survived\n",
            "530         Survived\n",
            "366         Survived\n",
            "699     Not Survived\n",
            "\n",
            "[474 rows x 1 columns]\n",
            "     Pclass   Age  SibSp  Parch     Fare  Sex_cleaned  Embarked_cleaned\n",
            "216       3  27.0      0      0   7.9250            1                 0\n",
            "635       2  28.0      0      0  13.0000            1                 0\n",
            "189       3  36.0      0      0   7.8958            0                 0\n",
            "97        1  23.0      0      1  63.3583            0                 1\n",
            "535       2   7.0      0      2  26.2500            1                 0\n",
            "..      ...   ...    ...    ...      ...          ...               ...\n",
            "453       1  49.0      1      0  89.1042            0                 1\n",
            "346       2  40.0      0      0  13.0000            1                 0\n",
            "160       3  44.0      0      1  16.1000            0                 0\n",
            "725       3  20.0      0      0   8.6625            0                 0\n",
            "323       2  22.0      1      1  29.0000            1                 0\n",
            "\n",
            "[238 rows x 7 columns]\n",
            "    Survived_cleaned\n",
            "216         Survived\n",
            "635         Survived\n",
            "189     Not Survived\n",
            "97          Survived\n",
            "535         Survived\n",
            "..               ...\n",
            "453         Survived\n",
            "346         Survived\n",
            "160     Not Survived\n",
            "725     Not Survived\n",
            "323         Survived\n",
            "\n",
            "[238 rows x 1 columns]\n"
          ],
          "name": "stdout"
        }
      ]
    },
    {
      "cell_type": "markdown",
      "metadata": {
        "id": "pij7rBwrVhBk",
        "colab_type": "text"
      },
      "source": [
        "## C. Exemple de classifieur probabiliste : classifieur Bayésien naïf"
      ]
    },
    {
      "cell_type": "markdown",
      "metadata": {
        "id": "3qcbCqf_VhBl",
        "colab_type": "text"
      },
      "source": [
        "Comme expliqué dans le cours, le classifieur Bayésien naïf fait une hypothèse d'indépendance des probabilités conditionnelles rarement vérifié en pratique, mais donne en général des résultats acceptables (mais avec une capacité de généralisation assez faible vis-à-vis de nouvelles données). Si nous travaillions toujours sur la base JouerDehors du TD1, nous aurions dû utiliser un classifieur Bayésien naïf faisant l'hypothèse que les variables aléatoires suivent une loi de Bernouilli. Ici, les variables étant quantitatives, nous allons essayer d'appliquer un Bayésien naïf faisant l'hypothèse de lois normales."
      ]
    },
    {
      "cell_type": "markdown",
      "metadata": {
        "id": "zw0SIrkuVhBl",
        "colab_type": "text"
      },
      "source": [
        "13. Les commandes sont données ci-après; lisez-les et comprenez-en la syntaxe (accuracy = taux de classification)."
      ]
    },
    {
      "cell_type": "code",
      "metadata": {
        "id": "Q2AQEA2ZVhBm",
        "colab_type": "code",
        "outputId": "a72cc0a9-0614-472a-e9c6-7454a683f1d9",
        "colab": {
          "base_uri": "https://localhost:8080/",
          "height": 88
        }
      },
      "source": [
        "from sklearn.naive_bayes import GaussianNB\n",
        "from sklearn.metrics import accuracy_score\n",
        "\n",
        "# Initialisation du classifieur\n",
        "gnb = GaussianNB()\n",
        "\n",
        "# Apprentissage (entraînement) du classifieur\n",
        "gnb.fit(Titanic_trainX, Titanic_trainY)\n",
        "\n",
        "# Prédiction du classifieur sur la base de test\n",
        "predictions = gnb.predict(Titanic_testX)\n",
        "\n",
        "# Estimation du taux de classification sur la base de test (généralisation)\n",
        "acc=accuracy_score(Titanic_testY,predictions)\n",
        "print(acc)"
      ],
      "execution_count": 17,
      "outputs": [
        {
          "output_type": "stream",
          "text": [
            "0.7815126050420168\n"
          ],
          "name": "stdout"
        },
        {
          "output_type": "stream",
          "text": [
            "/usr/local/lib/python3.6/dist-packages/sklearn/utils/validation.py:724: DataConversionWarning: A column-vector y was passed when a 1d array was expected. Please change the shape of y to (n_samples, ), for example using ravel().\n",
            "  y = column_or_1d(y, warn=True)\n"
          ],
          "name": "stderr"
        }
      ]
    },
    {
      "cell_type": "markdown",
      "metadata": {
        "id": "GQdcLoWRVhBo",
        "colab_type": "text"
      },
      "source": [
        "14. Comparez votre taux de classification avec celui trouvé par votre voisin. Est-elle le même ? Comment l’expliquez-vous ?"
      ]
    },
    {
      "cell_type": "markdown",
      "metadata": {
        "id": "rxaBCkXLVhBp",
        "colab_type": "text"
      },
      "source": [
        "différent, c'est lié au random"
      ]
    },
    {
      "cell_type": "markdown",
      "metadata": {
        "id": "XR5vKk8pVhBq",
        "colab_type": "text"
      },
      "source": [
        "15. Les performances vous paraissent-elles très bonnes ? Si ce n’est pas le cas, comment l'expliquez-vous ?"
      ]
    },
    {
      "cell_type": "markdown",
      "metadata": {
        "id": "W-tJGcB0VhBq",
        "colab_type": "text"
      },
      "source": [
        "C'est le rapport de \"bien placés\" donc le modèle est valable à 75%. performance convenable mais peut faire mieux."
      ]
    },
    {
      "cell_type": "markdown",
      "metadata": {
        "id": "wwcPupWiVhBr",
        "colab_type": "text"
      },
      "source": [
        "16. A l’aide de ce même classifieur, donnez les prédictions à partir des données contenues dans la matrice Titanic_TrainX, et comparez ces prédictions avec les sorties réelles contenues dans le vecteur Titanic_TrainY. Donnez le taux de classification (accuracy). Que remarquez-vous ? Comment l'expliquez-vous ?"
      ]
    },
    {
      "cell_type": "code",
      "metadata": {
        "id": "Zg68ABpKVhBs",
        "colab_type": "code",
        "outputId": "6932ef12-1e75-4e7f-abe9-69ebf3e1ee5f",
        "colab": {
          "base_uri": "https://localhost:8080/",
          "height": 34
        }
      },
      "source": [
        " # Prédiction du classifieur sur la base de train\n",
        "predictions1 = gnb.predict(Titanic_trainX)\n",
        "\n",
        "# Estimation du taux de classification sur la base de train (généralisation)\n",
        "acc1=accuracy_score(Titanic_trainY,predictions1)\n",
        "print(acc1)"
      ],
      "execution_count": 18,
      "outputs": [
        {
          "output_type": "stream",
          "text": [
            "0.7890295358649789\n"
          ],
          "name": "stdout"
        }
      ]
    },
    {
      "cell_type": "markdown",
      "metadata": {
        "id": "HOqU6IK_VhBu",
        "colab_type": "text"
      },
      "source": [
        ""
      ]
    },
    {
      "cell_type": "markdown",
      "metadata": {
        "id": "iQNeGTOCVhBv",
        "colab_type": "text"
      },
      "source": [
        "On va maintenant afficher la matrice de confusion. Attention ! la matrice donnée par le module scikit-learn est inversée par rapport aux notations du cours (prédiction sur les colonnes, réalité sur les lignes), et elle est généralisée au cas multi-classes.\n",
        "Il faut vraiment faire **très** attention à bien comprendre les notations car tous les logiciels utilisent des représentations différentes ! \n",
        "\n",
        "En effet, dans le cours, on avait la notation suivante :\n",
        "![Screen%20Shot%202019-11-16%20at%207.54.12%20PM.png](attachment:Screen%20Shot%202019-11-16%20at%207.54.12%20PM.png)\n",
        "\n",
        "Tandis que scikit-learn nous donne (cas à 3 classes 0, 1, 2) :\n",
        "![Screen%20Shot%202019-11-16%20at%207.54.26%20PM.png](attachment:Screen%20Shot%202019-11-16%20at%207.54.26%20PM.png)"
      ]
    },
    {
      "cell_type": "markdown",
      "metadata": {
        "id": "CKIo6I79VhBw",
        "colab_type": "text"
      },
      "source": [
        "17. Affichez la matrice de confusion en utilisant la commande ci-après, puis réécrire (à la main) la matrice de confusion donnée par Scikit-learn avec les notations du cours (TP, FP, TN, FN), en considérant qu'un survivant est un positif. Indice : ici, Scikit-learn range les classes par ordre alphabétique et donc 'Not Survived' est la classe 0, 'Survived' est la classe 1."
      ]
    },
    {
      "cell_type": "code",
      "metadata": {
        "id": "ZGQQigeLVhBw",
        "colab_type": "code",
        "outputId": "1964eab4-92c7-4f7f-c56d-d47803357931",
        "colab": {
          "base_uri": "https://localhost:8080/",
          "height": 85
        }
      },
      "source": [
        "from sklearn.metrics import confusion_matrix\n",
        "M_confusion=confusion_matrix(Titanic_testY,predictions)\n",
        "print(M_confusion)\n",
        "M_confusion=np.array([[M_confusion[1,1],M_confusion[0,1]],[M_confusion[1,0],M_confusion[0,0]]])\n",
        "print(M_confusion)"
      ],
      "execution_count": 19,
      "outputs": [
        {
          "output_type": "stream",
          "text": [
            "[[118  24]\n",
            " [ 28  68]]\n",
            "[[ 68  24]\n",
            " [ 28 118]]\n"
          ],
          "name": "stdout"
        }
      ]
    },
    {
      "cell_type": "markdown",
      "metadata": {
        "id": "YV-2b7KeVhBy",
        "colab_type": "text"
      },
      "source": [
        ""
      ]
    },
    {
      "cell_type": "markdown",
      "metadata": {
        "id": "OVVvOdYbVhBy",
        "colab_type": "text"
      },
      "source": [
        "18. A partir de la matrice de confusion, vérifiez avec un simple calcul (utilisez le notebook comme calculatrice) que vous obtenez bien le taux de classification (accuracy) de la question 13."
      ]
    },
    {
      "cell_type": "code",
      "metadata": {
        "id": "nytWnp3kVhBz",
        "colab_type": "code",
        "colab": {
          "base_uri": "https://localhost:8080/",
          "height": 34
        },
        "outputId": "4a37512a-8a1a-4271-bb5c-8d313766a8d2"
      },
      "source": [
        "print(\"accuracy :\",(118+68)/(118+24+28+68))"
      ],
      "execution_count": 20,
      "outputs": [
        {
          "output_type": "stream",
          "text": [
            "accuracy : 0.7815126050420168\n"
          ],
          "name": "stdout"
        }
      ]
    },
    {
      "cell_type": "markdown",
      "metadata": {
        "id": "XbOQOLYEVhB1",
        "colab_type": "text"
      },
      "source": [
        "19. Avec un simple calcul (utilisez le notebook comme calculatrice), calculez le rappel et la précision de la classe c='Survived' (détaillez vos calculs)."
      ]
    },
    {
      "cell_type": "code",
      "metadata": {
        "id": "5hS-eTCnVhB1",
        "colab_type": "code",
        "colab": {
          "base_uri": "https://localhost:8080/",
          "height": 51
        },
        "outputId": "7a8b94a5-a657-4fca-d4e8-94b2094e1dc6"
      },
      "source": [
        "print(\"precision :\",68/(68+24))\n",
        "print(\"rappel :\",68/(68+28))\n"
      ],
      "execution_count": 21,
      "outputs": [
        {
          "output_type": "stream",
          "text": [
            "precision : 0.7391304347826086\n",
            "rappel : 0.7083333333333334\n"
          ],
          "name": "stdout"
        }
      ]
    },
    {
      "cell_type": "markdown",
      "metadata": {
        "id": "Kt5o2v4WVhB3",
        "colab_type": "text"
      },
      "source": [
        ""
      ]
    },
    {
      "cell_type": "markdown",
      "metadata": {
        "id": "uKV4zT93VhB3",
        "colab_type": "text"
      },
      "source": [
        "20. Vérifiez votre calcul de précision et de rappel en lançant la commande :"
      ]
    },
    {
      "cell_type": "code",
      "metadata": {
        "id": "ULfVPbNrVhB4",
        "colab_type": "code",
        "colab": {
          "base_uri": "https://localhost:8080/",
          "height": 34
        },
        "outputId": "ac40aac2-2b78-417c-cf82-0fd7db12e3e9"
      },
      "source": [
        "from sklearn.metrics import precision_recall_fscore_support\n",
        "stats = precision_recall_fscore_support(Titanic_testY,predictions)\n",
        "print(stats)\n"
      ],
      "execution_count": 22,
      "outputs": [
        {
          "output_type": "stream",
          "text": [
            "(array([0.80821918, 0.73913043]), array([0.83098592, 0.70833333]), array([0.81944444, 0.72340426]), array([142,  96]))\n"
          ],
          "name": "stdout"
        }
      ]
    },
    {
      "cell_type": "markdown",
      "metadata": {
        "id": "8SO5ZebXVhB5",
        "colab_type": "text"
      },
      "source": [
        "## D. Exemples de classifieurs statistiques"
      ]
    },
    {
      "cell_type": "markdown",
      "metadata": {
        "id": "GhXocb3iVhB6",
        "colab_type": "text"
      },
      "source": [
        "21. On va maintenant essayer avec la méthode des k plus proches voisins, avec k=3. Pour cela, il vous faudra préalablement importer KNeighborsClassifier depuis sklearn.neighbors. Faites-le. Votre taux de classification est-il meilleur ou moins bon qu’avec le classifier naïf de Bayes ? Modifiez la valeur du paramètre k. Arrivez-vous facilement à trouver une valeur de k qui vous semble meilleure ?\n"
      ]
    },
    {
      "cell_type": "code",
      "metadata": {
        "id": "gkuV0ZkIVhB6",
        "colab_type": "code",
        "colab": {
          "base_uri": "https://localhost:8080/",
          "height": 68
        },
        "outputId": "2ef233fd-b340-4e29-804b-5d1299f53ead"
      },
      "source": [
        "from sklearn.neighbors import KNeighborsClassifier\n",
        "neigh = KNeighborsClassifier(n_neighbors=3)\n",
        "neigh.fit(Titanic_trainX, Titanic_trainY)\n",
        "\n",
        "# Prédiction du classifieur sur la base de test\n",
        "predictions = neigh.predict(Titanic_testX)\n",
        "\n",
        "# Estimation du taux de classification sur la base de test (généralisation)\n",
        "acc=accuracy_score(Titanic_testY,predictions)\n",
        "print(acc) "
      ],
      "execution_count": 23,
      "outputs": [
        {
          "output_type": "stream",
          "text": [
            "0.634453781512605\n"
          ],
          "name": "stdout"
        },
        {
          "output_type": "stream",
          "text": [
            "/usr/local/lib/python3.6/dist-packages/ipykernel_launcher.py:3: DataConversionWarning: A column-vector y was passed when a 1d array was expected. Please change the shape of y to (n_samples, ), for example using ravel().\n",
            "  This is separate from the ipykernel package so we can avoid doing imports until\n"
          ],
          "name": "stderr"
        }
      ]
    },
    {
      "cell_type": "markdown",
      "metadata": {
        "id": "hS5xRsfOVhB8",
        "colab_type": "text"
      },
      "source": [
        "\n"
      ]
    },
    {
      "cell_type": "markdown",
      "metadata": {
        "id": "70_6KjpBVhB9",
        "colab_type": "text"
      },
      "source": [
        "22. On va maintenant essayer avec la méthode SVC (issu de la même famille que le SVR du TP sur la régression, mais cette fois-ci pour de la classification et non de la régression). On va utiliser un SVM avec noyau linéaire.\n",
        "Le code à exécuter est donné ci-après. Votre taux de classification est-il meilleur ou moins bon qu’avec le classifieur naïf de Bayes ? Le temps d'exécution est-il plus ou moins long ?"
      ]
    },
    {
      "cell_type": "code",
      "metadata": {
        "id": "Uq86WgK1VhCD",
        "colab_type": "code",
        "colab": {}
      },
      "source": [
        ""
      ],
      "execution_count": 0,
      "outputs": []
    },
    {
      "cell_type": "markdown",
      "metadata": {
        "id": "FQ9p0c24VhCF",
        "colab_type": "text"
      },
      "source": [
        "\n"
      ]
    },
    {
      "cell_type": "markdown",
      "metadata": {
        "id": "LAQQ356bVhCG",
        "colab_type": "text"
      },
      "source": [
        "## E. Arbres de classification\n",
        "\n",
        "### Lancer et évaluer des arbres avec différents paramètres\n",
        "\n",
        "Pour travailler avec des arbres de classification, on va devoir importer la fonction ```DecisionTreeClassifier```, comme suit :\n",
        "```from sklearn.tree import DecisionTreeClassifier```\n",
        "\n",
        "Différemment de l'algorithme CART vu en cours, on ne va pas procéder à du post-élagage, mais à de l'élagage en cours de construction de l'arbre. Pour cela nous allons utiliser les deux stratégies données dans les deux sous-sections ci-après.\n",
        "\n",
        "#### Arbre de décision avec nombre minimum d'exemples par feuille\n",
        "\n",
        "23. Consultez l'aide de ```DecisionTreeClassifier```, et construisez l'arbre de décision DT1 qui se divise selon la meilleure division à chaque étape selon le critère de Gini, avec un maximum de 10 feuilles au total et un nombre minimum d'enregistrements par feuille fixé à 5, avec une division qui ne peut se faire que si le noeud à diviser contient au moins 2 exemples.\n",
        "\n",
        "A la manière du classifieur Bayésien naïf ci-dessus, procédez aux différentes étapes :\n",
        "- Initialisation du classifieur\n",
        "- Apprentissage (entraînement) du classifieur\n",
        "- Prédiction du classifieur sur la base de test\n",
        "- Estimation du taux de classification sur la base de test (généralisation)"
      ]
    },
    {
      "cell_type": "code",
      "metadata": {
        "id": "cioqQhMHVhCG",
        "colab_type": "code",
        "colab": {}
      },
      "source": [
        ""
      ],
      "execution_count": 0,
      "outputs": []
    },
    {
      "cell_type": "markdown",
      "metadata": {
        "id": "irELnLNtVhCI",
        "colab_type": "text"
      },
      "source": [
        "24. Notez le taux de classification et comparez-la à celui du classifieur Bayésien naïf."
      ]
    },
    {
      "cell_type": "markdown",
      "metadata": {
        "id": "pTnA5VIyVhCI",
        "colab_type": "text"
      },
      "source": [
        ""
      ]
    },
    {
      "cell_type": "markdown",
      "metadata": {
        "id": "RyO71Op8VhCJ",
        "colab_type": "text"
      },
      "source": [
        "#### Arbre de décision avec gain d'impureté minimum\n",
        "\n",
        "25. Consultez l'aide de ```DecisionTreeClassifier```, et construisez l'arbre de décision DT2 qui se divise selon la meilleure division à chaque étape selon le critère de Gini, avec un gain d'impureté minimum (selon le critère de Gini) fixé à 0.008.\n",
        "\n",
        "A la manière des classifieurs ci-dessus, procédez aux différentes étapes :\n",
        "- Initialisation du classifieur\n",
        "- Apprentissage (entraînement) du classifieur\n",
        "- Prédiction du classifieur sur la base de test\n",
        "- Estimation du taux de classification sur la base de test (généralisation)"
      ]
    },
    {
      "cell_type": "code",
      "metadata": {
        "id": "Br9PhhsJVhCJ",
        "colab_type": "code",
        "colab": {}
      },
      "source": [
        ""
      ],
      "execution_count": 0,
      "outputs": []
    },
    {
      "cell_type": "markdown",
      "metadata": {
        "id": "9nu8ocXVVhCL",
        "colab_type": "text"
      },
      "source": [
        "26. Notez le taux de classification et comparez-la à celle du classifieur Bayésien naïf, et à celle du premier arbre de décision."
      ]
    },
    {
      "cell_type": "markdown",
      "metadata": {
        "id": "BA-Jz2nCVhCL",
        "colab_type": "text"
      },
      "source": [
        ""
      ]
    },
    {
      "cell_type": "markdown",
      "metadata": {
        "id": "SYOxkQAJVhCL",
        "colab_type": "text"
      },
      "source": [
        "### Visualisation des arbres de décision\n",
        "\n",
        "On va maintenant visualiser les deux arbres de décision ci-avant. On va pour cela utiliser pydotplus.\n",
        "\n",
        "Le code pour DT1 vous est donné ci-après."
      ]
    },
    {
      "cell_type": "code",
      "metadata": {
        "id": "WNJBzsbpVhCN",
        "colab_type": "code",
        "colab": {}
      },
      "source": [
        "\n",
        "from sklearn.externals.six import StringIO  \n",
        "from IPython.display import Image  \n",
        "from sklearn.tree import export_graphviz\n",
        "import pydotplus\n",
        "dot_data = StringIO()\n",
        "export_graphviz(DT1, out_file=dot_data,  \n",
        "                filled=True, rounded=True,\n",
        "                special_characters=True,feature_names=Titanic_trainX.columns, class_names=True)\n",
        "graph = pydotplus.graph_from_dot_data(dot_data.getvalue())  \n",
        "Image(graph.create_png())"
      ],
      "execution_count": 0,
      "outputs": []
    },
    {
      "cell_type": "markdown",
      "metadata": {
        "id": "61PeBGFaVhCO",
        "colab_type": "text"
      },
      "source": [
        "27. Déduisez de ce quaphique quelques-unes des règles de classification utilisées par l'arbre.\n",
        "Quelles sont les variables qui vous semblent les plus discriminantes ?"
      ]
    },
    {
      "cell_type": "markdown",
      "metadata": {
        "id": "hiAaNnKFVhCP",
        "colab_type": "text"
      },
      "source": [
        ""
      ]
    },
    {
      "cell_type": "markdown",
      "metadata": {
        "id": "RK0Nm-WhVhCP",
        "colab_type": "text"
      },
      "source": [
        "28. Faites de même pour DT2."
      ]
    },
    {
      "cell_type": "code",
      "metadata": {
        "id": "ruDDXGpsVhCQ",
        "colab_type": "code",
        "colab": {}
      },
      "source": [
        ""
      ],
      "execution_count": 0,
      "outputs": []
    },
    {
      "cell_type": "markdown",
      "metadata": {
        "id": "HZOTidrJVhCS",
        "colab_type": "text"
      },
      "source": [
        ""
      ]
    },
    {
      "cell_type": "markdown",
      "metadata": {
        "id": "3rYF8cihVhCS",
        "colab_type": "text"
      },
      "source": [
        "## Forêts aléatoires\n",
        "\n",
        "29. Ré-exécutez plusieurs fois toutes les cellules précédentes, et notez à chaque fois les taux de classification. \n",
        "Ceux-ci sont modifiés à chaque fois qu'on ré-exécute, car la division entre base d'apprentissage et base de test change à chaque fois.\n",
        "\n",
        "Notez que les taux de classification des arbres de classification changent beaucoup entre deux ré-exécutions. C'est parce que les arbres de décision sont des classifieurs \"faibles\", au sens où de petits changements dans les données peuvent engendrer de grands changements dans la structure d'arbre.\n",
        "\n",
        "C'est dans le but d'obtenir un classifieur plus stable qu'on été inventées les **forêts aléatoires**, dont le principe peut être résumé par : \"*l'union fait la force*\". On parle de **méta-modèle**.\n",
        "\n",
        "En résumé, au lieu de se contenter d'un seul arbre par nature instable, on va construire une forêt aléatoire constituée de nombreux arbres avec :\n",
        " - des versions légèrement modifiées de la base d'apprentissage ;\n",
        " - des versions légèrement modifiées des attributs : certains attributs sont aléatoirement écartés de l'analyse pour chacun des arbres de la forêt.\n",
        "  \n",
        "Au moment de prendre une décision de classification, on va utiliser un vote à la majorité selon tous ces arbres. Le résultat ainsi obtenu sera plus stable qu'avec un seul arbre (mais pas nécessairement meilleur). Il sera bien sûr plus difficile de visualiser des forêts aléatoires que de simples arbres aléatoires.\n",
        "\n",
        "Pour travailler avec des forêts aléatoires, on va devoir importer la fonction ```RandomForestClassifier```, comme suit :\n",
        "```from sklearn.ensemble import RandomForestClassifier```"
      ]
    },
    {
      "cell_type": "markdown",
      "metadata": {
        "id": "cBoX-5ryVhCT",
        "colab_type": "text"
      },
      "source": [
        "30. Consultez l'aide de ```RandomForestClassifier```, et construisez la forêt aléatoire constituée de 100 arbres utilisant le critère de Gini et un nombre minimum d'exemples pour découper un noeud fixé à 5.\n",
        "\n",
        "A la manière des classifieurs ci-dessus, procédez aux différentes étapes :\n",
        "- Initialisation du classifieur\n",
        "- Apprentissage (entraînement) du classifieur\n",
        "- Prédiction du classifieur sur la base de test\n",
        "- Estimation du taux de classification sur la base de test (généralisation)"
      ]
    },
    {
      "cell_type": "code",
      "metadata": {
        "id": "G73gJciHVhCT",
        "colab_type": "code",
        "colab": {}
      },
      "source": [
        ""
      ],
      "execution_count": 0,
      "outputs": []
    },
    {
      "cell_type": "markdown",
      "metadata": {
        "id": "EjlMGCtAVhCU",
        "colab_type": "text"
      },
      "source": [
        "31. Notez le taux de classification et comparez-la à celle des classifieurs utilisés précédemment.\n",
        "Ré-exécutez plusieurs fois cette cellule, et notez que les taux de classification changent à chaque fois. Pourquoi ?"
      ]
    },
    {
      "cell_type": "markdown",
      "metadata": {
        "id": "zmVgC8qyVhCV",
        "colab_type": "text"
      },
      "source": [
        ""
      ]
    },
    {
      "cell_type": "markdown",
      "metadata": {
        "id": "-dxOxrFOVhCV",
        "colab_type": "text"
      },
      "source": [
        "## Validation croisée\n",
        "\n",
        "Vous n'en avez pas marre de ré-exécuter vos cellules plusieurs fois pour obtenir des résultats qui changent à chaque exécution, et qu'il vous faut marquer sur un bout de papier pour essayer d'en tirer des conclusions sur quel est le meilleur classifieur ? \n",
        "\n",
        "Moi, si !\n",
        "\n",
        "Pour faire cela plus proprement, on va utiliser une stratégie K-fold de vaildation croisée.\n",
        "L'idée est simple : plutôt que de découper les données en 2 bases : une base d'apprentissage, et une base de test, on va la découper en $K$ bases (folds) de tailles égales (si possible).\n",
        "\n",
        "On va alors construire $K$ classifieurs. Chacun de ces $K$ classifieurs apprendra sur $K-1$ folds et sera testé sur le fold restant. \n",
        "Un avantage supplémentaire de cette procédure (outre le fait que l'on maîtrise mieux le découpage qu'en relançant plusieurs fois la division entre base d'apprentissage et base de test) est que l'on \"gâche\" moins d'exemples d'apprentissage, d'autant plus que $K$ est élevé.\n",
        "\n",
        "On va répéter cette procédure plusieurs fois et on obtiendra ainsi ```n_repeats```$\\cdot K$ taux de classificaton pour chaque classifieur. Il nous faudra alors calculer la moyenne de tous ces taux de classification, classifieur par classifieur.\n",
        "\n",
        "Pour cela, vous allez utiliser ```RepeatedKFold``` : ```from sklearn.model_selection import RepeatedKFold```, et lancer ```RepeatedKFold``` avec $K=10$ et ```n_repeats=10```. **Attention à spécifier un bon random_state ! (exemple plus haut dans ce TP)**."
      ]
    },
    {
      "cell_type": "markdown",
      "metadata": {
        "id": "sWnuhMSSVhCV",
        "colab_type": "text"
      },
      "source": [
        "32. Ecrire le code permettant de faire la validation croisée avec RepeatedKFolds.\n",
        "Indice : il vous faudra utiliser une boucle ```for train, test in <nom de votre RepeatedKFold>.split(Titanic):```, dans laquelle vous allez entraîner chacun des 4 classifieurs vus ci-dessus, estimer leur taux de classification sur la base de test courante et le sauver dans un vecteur numpy de taille ```n_repeats```$\\cdot K$. A la fin de la boucle vous pourrez calculer les taux de classification moyens pour chacun des classifieurs."
      ]
    },
    {
      "cell_type": "code",
      "metadata": {
        "id": "IE7diHOqVhCX",
        "colab_type": "code",
        "colab": {}
      },
      "source": [
        ""
      ],
      "execution_count": 0,
      "outputs": []
    },
    {
      "cell_type": "markdown",
      "metadata": {
        "id": "euRX5j8MVhCb",
        "colab_type": "text"
      },
      "source": [
        "33. Quel est le classifieur qui vous semble le meilleur ? Est-il plus facile d'en décider avec cette procédure de validation croisée ?"
      ]
    },
    {
      "cell_type": "code",
      "metadata": {
        "id": "AWl7mE1iVhCb",
        "colab_type": "code",
        "colab": {}
      },
      "source": [
        ""
      ],
      "execution_count": 0,
      "outputs": []
    },
    {
      "cell_type": "markdown",
      "metadata": {
        "id": "f3FGXR4yVhCg",
        "colab_type": "text"
      },
      "source": [
        "## F. Retour sur la préparation des données"
      ]
    },
    {
      "cell_type": "markdown",
      "metadata": {
        "id": "-55xrSVDVhCg",
        "colab_type": "text"
      },
      "source": [
        "34. Avec une meilleure préparation des données, nous aurions trouvé des résultats complètement différents ; en particulier, \n",
        "les SVM auraient été bien meilleurs.\n",
        "     Avez-vous des idées pour améliorer la préparation des données ?\n"
      ]
    },
    {
      "cell_type": "markdown",
      "metadata": {
        "id": "tv1ZdEFaVhCh",
        "colab_type": "text"
      },
      "source": [
        ""
      ]
    }
  ]
}