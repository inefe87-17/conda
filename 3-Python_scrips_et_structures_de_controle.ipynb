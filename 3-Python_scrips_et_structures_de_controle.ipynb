{
 "cells": [
  {
   "cell_type": "markdown",
   "metadata": {
    "slideshow": {
     "slide_type": "slide"
    }
   },
   "source": [
    "<div style=\"font-size:24pt; font-weight:bold;\">Partie 3 : Scripts et Structures de contrôles</div>"
   ]
  },
  {
   "cell_type": "markdown",
   "metadata": {
    "slideshow": {
     "slide_type": "slide"
    }
   },
   "source": [
    "# Python: un langage de scripting\n",
    "\n",
    "A l'origine, Python a été conçu en tant que langage de script, c'est-à-dire un langage de programmation interprété qui permet de manipuler les fonctionnalités d'un système informatique. Les langages de script sont exécutés à partir de fichiers contenant le code source du programme qui est interprété.\n",
    "\n",
    "Jusqu'à présent nous avons vu des traitements très courts qui consistent en un calcul très basique qui doit être réalisé de manière impérative. \n",
    "\n",
    "Un script, lui, va enchaîner plusieurs traitements impératifs (on parle d'ailleurs de programmation impérative) dont l'issue peut cependant être différente selon le bon fonctionnement ou non du traitement effectué ou relancer plusieurs fois le même type de traitements."
   ]
  },
  {
   "cell_type": "code",
   "execution_count": 20,
   "metadata": {
    "ExecuteTime": {
     "end_time": "2019-04-09T06:44:41.613513Z",
     "start_time": "2019-04-09T06:44:41.597777Z"
    }
   },
   "outputs": [
    {
     "data": {
      "text/plain": [
       "['Darwin',\n",
       " 'maltsev.univ-lr.fr',\n",
       " '18.5.0',\n",
       " 'Darwin',\n",
       " 'Kernel',\n",
       " 'Version',\n",
       " '18.5.0:',\n",
       " 'Mon',\n",
       " 'Mar',\n",
       " '11',\n",
       " '20:40:32',\n",
       " 'PDT',\n",
       " '2019;',\n",
       " 'root:xnu-4903.251.3~3/RELEASE_X86_64',\n",
       " 'x86_64']"
      ]
     },
     "execution_count": 20,
     "metadata": {},
     "output_type": "execute_result"
    }
   ],
   "source": [
    "commande=!uname -a\n",
    "commande[0].split()"
   ]
  },
  {
   "cell_type": "markdown",
   "metadata": {
    "slideshow": {
     "slide_type": "slide"
    }
   },
   "source": [
    "Les instructions qui permettent de modifier le flot de traitement sont appelés \"structures de contrôle\".\n",
    "\n",
    "Afin de rendre ces structures très lisibles, Python propose une mise en forme particulière basée sur l'utilisation de tabulations."
   ]
  },
  {
   "cell_type": "markdown",
   "metadata": {
    "slideshow": {
     "slide_type": "subslide"
    }
   },
   "source": [
    "## Structures de contrôle"
   ]
  },
  {
   "cell_type": "markdown",
   "metadata": {},
   "source": [
    "### if\n",
    "\n",
    "Le \"if\" permet de gérer les alternatives et effectuer des traitements en fonction du résultat d'un test sur une condition particulière."
   ]
  },
  {
   "cell_type": "markdown",
   "metadata": {},
   "source": [
    "    if boolean_expression:\n",
    "        statement\n",
    "        elif boolean_expression:\n",
    "            statement\n",
    "            ...\n",
    "        else:\n",
    "            statement\n"
   ]
  },
  {
   "cell_type": "code",
   "execution_count": 4,
   "metadata": {
    "ExecuteTime": {
     "end_time": "2019-04-07T15:07:28.875583Z",
     "start_time": "2019-04-07T15:07:28.870427Z"
    }
   },
   "outputs": [
    {
     "data": {
      "text/plain": [
       "'pair'"
      ]
     },
     "execution_count": 4,
     "metadata": {},
     "output_type": "execute_result"
    }
   ],
   "source": [
    "i=2\n",
    "if i%2:\n",
    "    s= \"impair\"\n",
    "else:\n",
    "    s= \"pair\"\n",
    "s"
   ]
  },
  {
   "cell_type": "markdown",
   "metadata": {},
   "source": [
    "Il est possible d'enchaîner les tests grâce à l'instruction `elif`."
   ]
  },
  {
   "cell_type": "code",
   "execution_count": 34,
   "metadata": {
    "ExecuteTime": {
     "end_time": "2019-04-07T15:45:27.324537Z",
     "start_time": "2019-04-07T15:45:27.320292Z"
    }
   },
   "outputs": [
    {
     "name": "stdout",
     "output_type": "stream",
     "text": [
      "10.0 est un flottant\n"
     ]
    }
   ],
   "source": [
    "var = 10.\n",
    "vart = str(type(var))\n",
    "\n",
    "if vart == \"<class 'int'>\":\n",
    "    print(\"\"+str(var)+\" est un entier\")\n",
    "elif vart == \"<class 'float'>\":\n",
    "    print(var,\"est un flottant\")\n",
    "else:\n",
    "    print(\"{0} est de type {1}\".format(var,vart))"
   ]
  },
  {
   "cell_type": "markdown",
   "metadata": {},
   "source": [
    "> **Exercice : écrire le code permettant de tester si le premier caractère d'une chaine est une majuscule, une minuscule ou un nombre**"
   ]
  },
  {
   "cell_type": "markdown",
   "metadata": {
    "slideshow": {
     "slide_type": "subslide"
    }
   },
   "source": [
    "### while\n",
    "\n",
    "On a très souvent à répéter un traitement plusieurs fois, avec les mêmes paramètres ou avec des paramètres différents. C'est le principe d'une boucle. La boucle la plus générique est réalisée par la boucle while : tant qu'une condition est remplie, on réitère le traitement.\n",
    "\n",
    "    while boolean_expression:\n",
    "        statement"
   ]
  },
  {
   "cell_type": "code",
   "execution_count": 3,
   "metadata": {
    "ExecuteTime": {
     "end_time": "2019-04-05T17:17:51.055302Z",
     "start_time": "2019-04-05T17:17:51.051193Z"
    }
   },
   "outputs": [
    {
     "data": {
      "text/plain": [
       "'10,9,8,7,6,5,4,3,2,1'"
      ]
     },
     "execution_count": 3,
     "metadata": {},
     "output_type": "execute_result"
    }
   ],
   "source": [
    "i=10; s=\"\"\n",
    "while i>0:\n",
    "    s=s+\",\"+str(i)\n",
    "    i=i-1\n",
    "s[1:]"
   ]
  },
  {
   "cell_type": "markdown",
   "metadata": {},
   "source": [
    "> **Exercice : écrire le code permettant de calculer la factorielle de 10**"
   ]
  },
  {
   "cell_type": "markdown",
   "metadata": {
    "collapsed": true,
    "slideshow": {
     "slide_type": "subslide"
    }
   },
   "source": [
    "### for\n",
    "\n",
    "Très souvent, les boucles sont associées à une variable entière ou un pointeur qui est incrémenté à chaque itération et est utilisé pour exploiter les données d'une collection indexée.\n",
    "\n",
    "Cette forme de boucle est si courante qu'elle possède sa propre syntaxe.\n",
    "\n",
    "    for variable(s) in iterable:\n",
    "        statement\n",
    "        \n",
    "Itérable est soit un type structuré, soit un itérateur."
   ]
  },
  {
   "cell_type": "markdown",
   "metadata": {
    "slideshow": {
     "slide_type": "subslide"
    }
   },
   "source": [
    "## `range()`\n",
    "\n",
    "Comme on l'a dit plus haut, les boucles `for` travaillent souvent avec un index entier. Python propose un itérateur appelé `range` qui permet de représenter un intervalle entier.\n",
    "\n",
    "    for variable(s) in range(start=0,end,step=1):\n",
    "        statement"
   ]
  },
  {
   "cell_type": "code",
   "execution_count": 33,
   "metadata": {
    "ExecuteTime": {
     "end_time": "2019-04-07T15:33:21.668531Z",
     "start_time": "2019-04-07T15:33:21.664487Z"
    }
   },
   "outputs": [
    {
     "data": {
      "text/plain": [
       "' -2 0 2 4 6 8'"
      ]
     },
     "execution_count": 33,
     "metadata": {},
     "output_type": "execute_result"
    }
   ],
   "source": [
    "s=\"\"\n",
    "for i in range(-2,10,2): s=s+\" \"+str(i)\n",
    "s"
   ]
  },
  {
   "cell_type": "markdown",
   "metadata": {},
   "source": [
    "> **Exercice : écrire le code permettant de construire les 10 premiers termes d'une suite arithmétique dont le premier terme est 0 et de raison 2**"
   ]
  },
  {
   "cell_type": "markdown",
   "metadata": {},
   "source": [
    "## Compréhension de liste/dictionnaire/ensemble\n",
    "\n",
    "On a vu à la section précédente comment créer des listes, des dictionnaires ou des ensembles par extension. On vient par ailleurs de voir comment utiliser des boucles et des structures de contrôle.\n",
    "\n",
    "Python permet de combiner ces 2 fonctionnalités en créeant des structures complexes à partir d'autres structures ou d'itérateurs. C'est ce qu'on appelle des \"compréhensions\"."
   ]
  },
  {
   "cell_type": "markdown",
   "metadata": {},
   "source": [
    "### Compréhension de liste"
   ]
  },
  {
   "cell_type": "code",
   "execution_count": 6,
   "metadata": {
    "ExecuteTime": {
     "end_time": "2019-04-09T06:23:53.033335Z",
     "start_time": "2019-04-09T06:23:53.028666Z"
    }
   },
   "outputs": [
    {
     "data": {
      "text/plain": [
       "[25, 16, 9, 4, 1, 0, 1, 4, 9, 16]"
      ]
     },
     "execution_count": 6,
     "metadata": {},
     "output_type": "execute_result"
    }
   ],
   "source": [
    "liste=[x**2 for x in range(-5,5)] # Compréhension de liste avec itérateur\n",
    "liste"
   ]
  },
  {
   "cell_type": "code",
   "execution_count": 7,
   "metadata": {
    "ExecuteTime": {
     "end_time": "2019-04-09T06:23:53.382549Z",
     "start_time": "2019-04-09T06:23:53.377975Z"
    }
   },
   "outputs": [
    {
     "data": {
      "text/plain": [
       "[12.5, 8.0, 4.5, 2.0, 0.5, 0.5, 2.0, 4.5, 8.0]"
      ]
     },
     "execution_count": 7,
     "metadata": {},
     "output_type": "execute_result"
    }
   ],
   "source": [
    "[x/2 for x in liste if x!=0] # Compréhension de liste avec garde"
   ]
  },
  {
   "cell_type": "markdown",
   "metadata": {},
   "source": [
    "On peut aussi chaîner les boucles."
   ]
  },
  {
   "cell_type": "code",
   "execution_count": 8,
   "metadata": {
    "ExecuteTime": {
     "end_time": "2019-04-09T06:23:54.233576Z",
     "start_time": "2019-04-09T06:23:54.229730Z"
    }
   },
   "outputs": [
    {
     "data": {
      "text/plain": [
       "['0A', '0B', '0C', '1A', '1B', '1C', '2A', '2B', '2C']"
      ]
     },
     "execution_count": 8,
     "metadata": {},
     "output_type": "execute_result"
    }
   ],
   "source": [
    "[str(x)+y for x in range(3) for y in ['A','B','C']]"
   ]
  },
  {
   "cell_type": "markdown",
   "metadata": {},
   "source": [
    "> **Exercice : construire une liste contenant les 10 premiers termes d'une suite géométrique de premier terme 1 et de raison 2**"
   ]
  },
  {
   "cell_type": "markdown",
   "metadata": {},
   "source": [
    "### Compréhension d'ensemble\n",
    "\n",
    "Le fonctionnement est le même mais si 2 éléments sont identiques, le doublon n'est pas créé"
   ]
  },
  {
   "cell_type": "code",
   "execution_count": 10,
   "metadata": {
    "ExecuteTime": {
     "end_time": "2019-04-09T06:23:56.967726Z",
     "start_time": "2019-04-09T06:23:56.964292Z"
    }
   },
   "outputs": [
    {
     "data": {
      "text/plain": [
       "{0, 1, 4, 9, 16, 25}"
      ]
     },
     "execution_count": 10,
     "metadata": {},
     "output_type": "execute_result"
    }
   ],
   "source": [
    "{x for x in liste}"
   ]
  },
  {
   "cell_type": "markdown",
   "metadata": {},
   "source": [
    "> **Exercice : construire l'ensemble de tous les mots pouvant être écrits avec \"NSI\" mais dont les lettres sont distinctes**"
   ]
  },
  {
   "cell_type": "markdown",
   "metadata": {},
   "source": [
    "### Compréhension de dictionnaire\n",
    "\n",
    "On manipule de manière indépendante la clef et la valeur."
   ]
  },
  {
   "cell_type": "code",
   "execution_count": 63,
   "metadata": {
    "ExecuteTime": {
     "end_time": "2019-04-07T16:12:32.391822Z",
     "start_time": "2019-04-07T16:12:32.387482Z"
    }
   },
   "outputs": [
    {
     "data": {
      "text/plain": [
       "{'Carré de 0': 0,\n",
       " 'Carré de 1': 1,\n",
       " 'Carré de 2': 4,\n",
       " 'Carré de 3': 9,\n",
       " 'Carré de 4': 16}"
      ]
     },
     "execution_count": 63,
     "metadata": {},
     "output_type": "execute_result"
    }
   ],
   "source": [
    "{\"Carré de \"+str(x):x**2 for x in range(5)}"
   ]
  },
  {
   "cell_type": "markdown",
   "metadata": {},
   "source": [
    "> **Exercice : construire un dictionnaire associant à chaque caractère sont code ASCII**"
   ]
  }
 ],
 "metadata": {
  "celltoolbar": "Slideshow",
  "kernelspec": {
   "display_name": "Python 3",
   "language": "python",
   "name": "python3"
  },
  "language_info": {
   "codemirror_mode": {
    "name": "ipython",
    "version": 3
   },
   "file_extension": ".py",
   "mimetype": "text/x-python",
   "name": "python",
   "nbconvert_exporter": "python",
   "pygments_lexer": "ipython3",
   "version": "3.6.8"
  },
  "toc": {
   "base_numbering": 1,
   "nav_menu": {},
   "number_sections": true,
   "sideBar": true,
   "skip_h1_title": false,
   "title_cell": "Table of Contents",
   "title_sidebar": "Contents",
   "toc_cell": false,
   "toc_position": {
    "height": "calc(100% - 180px)",
    "left": "10px",
    "top": "150px",
    "width": "336px"
   },
   "toc_section_display": true,
   "toc_window_display": true
  }
 },
 "nbformat": 4,
 "nbformat_minor": 1
}
