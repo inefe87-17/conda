{
 "cells": [
  {
   "cell_type": "markdown",
   "metadata": {
    "slideshow": {
     "slide_type": "slide"
    }
   },
   "source": [
    "<div style=\"font-size:24pt; font-weight:bold;\">Python : un langage protéiforme</div>"
   ]
  },
  {
   "cell_type": "markdown",
   "metadata": {
    "slideshow": {
     "slide_type": "subslide"
    }
   },
   "source": [
    "# Introduction\n",
    "## Pourquoi Python : les bons cotés \n",
    "* Multi-plateforme\n",
    "* Multi-paradigmes (script, procédural, objet, fonctionnel)\n",
    "* Freeware et open source\n",
    "* Langage très simple et très lisible\n",
    "* Est bien documenté et facile à documenter\n",
    "* Python est “batteries included” \n",
    "    * il existe de nombreuses bibliothèques\n",
    "    * actuellement 174768 packages ! (https://pypi.org/)\n",
    "* Peut être étendu facilement"
   ]
  },
  {
   "cell_type": "markdown",
   "metadata": {},
   "source": [
    "## Pourquoi Python : les mauvais cotés\n",
    "\n",
    "* C'est un langage interprété... et donc pas très rapide !\n",
    "* Il est typé dynamiquement pas statiquement\n",
    "    - pas d'optimisation liées aux types\n",
    "    - moins de lisibilité\n",
    "* L'encaspsulation des données est quasi absente"
   ]
  },
  {
   "cell_type": "markdown",
   "metadata": {},
   "source": [
    "## Le classique petit historique...\n",
    "\n",
    "- Python a été créé par Guido van Rossum en 1989 et nommé de la sorte en hommage aux Monthy Pythons\n",
    "- A l’origine l’idée était de développer un **langage de scripts** inspiré d’ABC\n",
    "- En février 1991 sort la première version publique, numérotée 0.9.0 (plus vieux que Java !)"
   ]
  }
 ],
 "metadata": {
  "celltoolbar": "Slideshow",
  "kernelspec": {
   "display_name": "Python 3",
   "language": "python",
   "name": "python3"
  },
  "language_info": {
   "codemirror_mode": {
    "name": "ipython",
    "version": 3
   },
   "file_extension": ".py",
   "mimetype": "text/x-python",
   "name": "python",
   "nbconvert_exporter": "python",
   "pygments_lexer": "ipython3",
   "version": "3.6.8"
  },
  "toc": {
   "base_numbering": 1,
   "nav_menu": {},
   "number_sections": true,
   "sideBar": true,
   "skip_h1_title": false,
   "title_cell": "Table of Contents",
   "title_sidebar": "Contents",
   "toc_cell": false,
   "toc_position": {
    "height": "calc(100% - 180px)",
    "left": "10px",
    "top": "150px",
    "width": "336px"
   },
   "toc_section_display": true,
   "toc_window_display": true
  }
 },
 "nbformat": 4,
 "nbformat_minor": 1
}
