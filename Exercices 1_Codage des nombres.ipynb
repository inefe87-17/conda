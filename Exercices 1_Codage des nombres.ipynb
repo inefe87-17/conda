{
 "cells": [
  {
   "cell_type": "markdown",
   "metadata": {},
   "source": [
    "# Codage des entiers"
   ]
  },
  {
   "cell_type": "markdown",
   "metadata": {},
   "source": [
    "## Définir les nombres suivants en représentation NON SIGNÉES sur 8 bits, ou sur 16 bits :"
   ]
  },
  {
   "cell_type": "markdown",
   "metadata": {},
   "source": [
    "> **Consigne** : écrire la valeur sur 2 digits lorsqu'il s'agit d'une représentation sur 8 bits (exemple : 0xF4) et sur 4 digits quand il s'agit d'une représentation sur 16 bits (exemple 0x0201), le tout précédé d'un 0x sans espace. Indiquer si la représentation est correcte."
   ]
  },
  {
   "cell_type": "markdown",
   "metadata": {
    "ExecuteTime": {
     "end_time": "2019-04-15T08:16:57.125954Z",
     "start_time": "2019-04-15T08:16:57.121628Z"
    }
   },
   "source": [
    "$A=100$"
   ]
  },
  {
   "cell_type": "markdown",
   "metadata": {},
   "source": [
    "sur 8 bits"
   ]
  },
  {
   "cell_type": "markdown",
   "metadata": {},
   "source": [
    "sur 16 bits"
   ]
  },
  {
   "cell_type": "markdown",
   "metadata": {
    "ExecuteTime": {
     "end_time": "2019-04-15T08:24:56.464592Z",
     "start_time": "2019-04-15T08:24:56.461252Z"
    }
   },
   "source": [
    "$B=128$"
   ]
  },
  {
   "cell_type": "markdown",
   "metadata": {},
   "source": [
    "sur 8 bits"
   ]
  },
  {
   "cell_type": "markdown",
   "metadata": {},
   "source": [
    "sur 16 bits"
   ]
  },
  {
   "cell_type": "markdown",
   "metadata": {},
   "source": [
    "$C=257$"
   ]
  },
  {
   "cell_type": "markdown",
   "metadata": {},
   "source": [
    "sur 8 bits"
   ]
  },
  {
   "cell_type": "markdown",
   "metadata": {},
   "source": [
    "sur 16 bits"
   ]
  },
  {
   "cell_type": "markdown",
   "metadata": {},
   "source": [
    "## Définir les nombres suivants en représentation SIGNÉES sur 8 bits, ou sur 16 bits :"
   ]
  },
  {
   "cell_type": "markdown",
   "metadata": {},
   "source": [
    "> **Consigne** : écrire la valeur sur 2 digits lorsqu'il s'agit d'une représentation sur 8 bits (exemple : 0xF4) et sur 4 digits quand il s'agit d'une représentation sur 16 bits (exemple 0x0201), le tout précédé d'un 0x sans espace. Indiquer si la représentation est correcte."
   ]
  },
  {
   "cell_type": "markdown",
   "metadata": {},
   "source": [
    "$D = -100$"
   ]
  },
  {
   "cell_type": "markdown",
   "metadata": {},
   "source": [
    "sur 8 bits"
   ]
  },
  {
   "cell_type": "markdown",
   "metadata": {},
   "source": [
    "sur 16 bits"
   ]
  },
  {
   "cell_type": "markdown",
   "metadata": {},
   "source": [
    "$E = -129$"
   ]
  },
  {
   "cell_type": "markdown",
   "metadata": {},
   "source": [
    "sur 8 bits"
   ]
  },
  {
   "cell_type": "markdown",
   "metadata": {},
   "source": [
    "sur 16 bits"
   ]
  },
  {
   "cell_type": "markdown",
   "metadata": {},
   "source": [
    "$F=255$"
   ]
  },
  {
   "cell_type": "markdown",
   "metadata": {},
   "source": [
    "sur 8 bits"
   ]
  },
  {
   "cell_type": "markdown",
   "metadata": {},
   "source": [
    "sur 16 bits"
   ]
  },
  {
   "cell_type": "markdown",
   "metadata": {},
   "source": [
    "## Représentation nombre 8 bits :"
   ]
  },
  {
   "cell_type": "markdown",
   "metadata": {},
   "source": [
    "> **Consigne** : écrire les valeurs avec le signe << - >> si le nombre est négatif"
   ]
  },
  {
   "cell_type": "markdown",
   "metadata": {},
   "source": [
    "Supposons que l'on dispose des 2 informations suivantes dans la mémoire. Définir la valeur du nombre en décimal (base 10)"
   ]
  },
  {
   "cell_type": "markdown",
   "metadata": {},
   "source": [
    "Si R1 est un nombre non signé : "
   ]
  },
  {
   "cell_type": "markdown",
   "metadata": {},
   "source": [
    "Si R1 est un nombre signé : "
   ]
  },
  {
   "cell_type": "markdown",
   "metadata": {},
   "source": [
    "Si R2 est un nombre non signé : "
   ]
  },
  {
   "cell_type": "markdown",
   "metadata": {},
   "source": [
    "Si R1 est un nombre signé : "
   ]
  },
  {
   "cell_type": "markdown",
   "metadata": {},
   "source": [
    "# Codage des flottants"
   ]
  },
  {
   "cell_type": "markdown",
   "metadata": {},
   "source": [
    "On souhaite écrire les deux nombres suivants au format IEEE simple précision (voir format)"
   ]
  },
  {
   "cell_type": "markdown",
   "metadata": {},
   "source": [
    "On code le nombre :\n",
    "$A = (-1)s.m.2^e$"
   ]
  },
  {
   "cell_type": "markdown",
   "metadata": {},
   "source": [
    "par les 3 champs suivants :\n",
    "- S = s sur 1bit,\n",
    "- M tel que m = 1,M sur 23 bits\n",
    "- E tel que $E= e+\\%01111111(=e+127)$"
   ]
  },
  {
   "cell_type": "markdown",
   "metadata": {},
   "source": [
    "Codage sur 32 bits :"
   ]
  },
  {
   "cell_type": "markdown",
   "metadata": {
    "ExecuteTime": {
     "end_time": "2019-04-15T09:00:24.092245Z",
     "start_time": "2019-04-15T09:00:24.088242Z"
    }
   },
   "source": [
    "|S|E|M|\n",
    "|---|---|---|\n",
    "|1 bit|8bit|23bits|\n"
   ]
  },
  {
   "cell_type": "markdown",
   "metadata": {},
   "source": [
    "**Format d'écriture :**\n",
    "\n",
    "Signe : << + >>  ou << - >>  sans espace (exemple : +)\n",
    "\n",
    "Exposant : nombre en hexadécimal SANS le 0x (exemple : 8F)  \n",
    "\n",
    "Mantise en base 2 dans un format << 1,mantisse >>  (donc sans le << 1, >> qui est implicite : suite de 1 et de 0 sans espace   \n",
    "\n",
    "Nombre en hexa sur 32 bits SANS le 0x (exemple : 9F345CAA) et SANS espace"
   ]
  },
  {
   "cell_type": "markdown",
   "metadata": {},
   "source": [
    "$A = 49,2$     "
   ]
  },
  {
   "cell_type": "markdown",
   "metadata": {},
   "source": [
    "Codage enmémoire (sur 32 bits) à exprimer en hexadécimal : "
   ]
  },
  {
   "cell_type": "markdown",
   "metadata": {
    "ExecuteTime": {
     "end_time": "2019-04-15T08:45:30.296458Z",
     "start_time": "2019-04-15T08:45:30.292292Z"
    }
   },
   "source": [
    "$B=6,5$"
   ]
  },
  {
   "cell_type": "markdown",
   "metadata": {},
   "source": [
    "Codage IEEE dans la mémoire (sur 32 bits) à exprimer en hexadécimal  :   "
   ]
  },
  {
   "cell_type": "markdown",
   "metadata": {},
   "source": [
    "## Addition en nombres flottants"
   ]
  },
  {
   "cell_type": "markdown",
   "metadata": {},
   "source": [
    "Réaliser l’addition des 2 nombres A + B ci-dessus, le résultant étant exprimé par l’exposant éventuellement recalé et par sa mantisse sur 23 bits :"
   ]
  },
  {
   "cell_type": "markdown",
   "metadata": {},
   "source": [
    "## Erreur sur le codage"
   ]
  },
  {
   "cell_type": "markdown",
   "metadata": {},
   "source": [
    "Exprimer l'erreur pour chacun des 2 nombres :"
   ]
  },
  {
   "cell_type": "markdown",
   "metadata": {},
   "source": [
    "Nombre A :"
   ]
  },
  {
   "cell_type": "markdown",
   "metadata": {},
   "source": [
    "Erreur absolue (en %) :    "
   ]
  },
  {
   "cell_type": "markdown",
   "metadata": {},
   "source": [
    "Erreur relative (en %):"
   ]
  },
  {
   "cell_type": "markdown",
   "metadata": {},
   "source": [
    "Nombre B :"
   ]
  },
  {
   "cell_type": "markdown",
   "metadata": {},
   "source": [
    "Erreur absolue :    "
   ]
  },
  {
   "cell_type": "markdown",
   "metadata": {},
   "source": [
    "Erreur relative :     "
   ]
  }
 ],
 "metadata": {
  "kernelspec": {
   "display_name": "Python 3",
   "language": "python",
   "name": "python3"
  },
  "language_info": {
   "codemirror_mode": {
    "name": "ipython",
    "version": 3
   },
   "file_extension": ".py",
   "mimetype": "text/x-python",
   "name": "python",
   "nbconvert_exporter": "python",
   "pygments_lexer": "ipython3",
   "version": "3.6.8"
  },
  "toc": {
   "base_numbering": 1,
   "nav_menu": {},
   "number_sections": true,
   "sideBar": true,
   "skip_h1_title": false,
   "title_cell": "Table of Contents",
   "title_sidebar": "Contents",
   "toc_cell": false,
   "toc_position": {},
   "toc_section_display": true,
   "toc_window_display": true
  }
 },
 "nbformat": 4,
 "nbformat_minor": 2
}
